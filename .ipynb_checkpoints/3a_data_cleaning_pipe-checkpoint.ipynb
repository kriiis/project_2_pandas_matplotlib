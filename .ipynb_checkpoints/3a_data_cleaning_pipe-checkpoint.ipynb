{
 "cells": [
  {
   "cell_type": "code",
   "execution_count": null,
   "id": "a9b5bb01-29f4-47a3-8181-403c62e36a9b",
   "metadata": {},
   "outputs": [],
   "source": [
    "import pandas as pd\n",
    "\n",
    "path = '../data/eniac/'\n",
    "orderlines = pd.read_csv(path + 'orderlines.csv')\n",
    "orders = pd.read_csv(path + 'orders.csv')\n",
    "\n",
    "def start_pipeline(data): \n",
    "    return data.copy()\n",
    "\n",
    "def set_types_orders(data): \n",
    "    return data.assign(create_date = pd.to_datetime(data['created_date']))\n",
    "\n",
    "def common_orders(orders, orderlines): \n",
    "    return (orders\n",
    "            .assign(order_check = orders['order_id'].isin(orderlines['id_order']))\n",
    "            .query('order_check == True')\n",
    "            ['order_id'].tolist())\n",
    "\n",
    "def select_common_orders(data, orders_list: list): \n",
    "    if 'order_id' in data.columns: \n",
    "        data.rename(columns={'order_id':'id_order'}, inplace=True)\n",
    "    data_filtered = data.query('id_order == @orders_list')\n",
    "    print(\n",
    "        f\"\"\"\n",
    "        Total {data_filtered.shape[0]} rows included over the original {data.shape[0]} rows.\\n\n",
    "        Kept the {round((data_filtered.shape[0] / data.shape[0])*100, 2)}% of the data.\n",
    "        \"\"\")\n",
    "    return data_filtered    \n",
    "\n",
    "(\n",
    "orders\n",
    "    .pipe(start_pipeline)\n",
    "    .pipe(set_types_orders)\n",
    "    .dropna()\n",
    "    .pipe(select_common_orders, orders_list=common_orders(orders, orderlines))\n",
    ")"
   ]
  }
 ],
 "metadata": {
  "kernelspec": {
   "display_name": "Python 3",
   "language": "python",
   "name": "python3"
  },
  "language_info": {
   "codemirror_mode": {
    "name": "ipython",
    "version": 3
   },
   "file_extension": ".py",
   "mimetype": "text/x-python",
   "name": "python",
   "nbconvert_exporter": "python",
   "pygments_lexer": "ipython3",
   "version": "3.8.8"
  }
 },
 "nbformat": 4,
 "nbformat_minor": 5
}
