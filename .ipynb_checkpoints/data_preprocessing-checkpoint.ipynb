{
 "cells": [
  {
   "cell_type": "code",
   "execution_count": null,
   "id": "069fa122-26b0-42cd-8678-d8d002aff389",
   "metadata": {},
   "outputs": [],
   "source": [
    "import pandas as pd\n",
    "import numpy as np\n",
    "\n",
    "path = 'raw_data/clean'\n",
    "orderlines = pd.read_csv(path + 'orderlines_cl.csv')\n",
    "orders = pd.read_csv(path + 'orders_cl.csv')\n",
    "products = pd.read_csv(path + 'products_cl.csv')\n",
    "brands = pd.read_csv(path + 'brands_cl.csv')\n",
    "\n",
    "def start_pipeline(data): \n",
    "    return data.copy()\n",
    "\n",
    "def drop_column(data, column_name):\n",
    "    return data.drop(column_name, axis = 1)"
   ]
  },
  {
   "cell_type": "markdown",
   "id": "d3a4bac2-b12b-4bc5-a2a6-9a51657cd1bc",
   "metadata": {},
   "source": [
    "## Remove Outliers from Orders and Orderlines based on price differences\n",
    "\n",
    "- Uses filtered dataframes orderlines_filtered and orders_filtered so process those pipelines first\n",
    "\n",
    "- Function filter_outliers: filter the orders with a price difference in total_price and total_paid that are not plausible and returns a list of orded ids that can then be removed from both orders and orderlines in the next step\n",
    "    - Price difference are likely to come from shipping costs\n",
    "    - Shipping costs e.g. in Spain for individuals with GLS are at most 105€ to the Balearics\n",
    "    - Some of the worst outliers are in state \"Shopping Basket\" and not relevant as we are only interested in the \"Completed\" orders\n",
    "    - Price differences between 0 and 105€ are plausible and would contain 98,7% of the completed orders\n",
    "    - Having a look at the info() (distribution) of the price difference 25% (Q1) of them are between 0 and -0.01 probably because of some problems when substracting the prices and rounding it - so it would be good to include those because they only have not matching prices because of the calculation within python\n",
    "    - outliers range from -0.1 to 105€\n",
    "    \n",
    "- remove_outliers: filter dataframe based on ids in list and only keep those rows\n",
    "- save final dataframes as new cleaned csv files"
   ]
  },
  {
   "cell_type": "code",
   "execution_count": null,
   "id": "37473720-ddca-4e32-86f6-c1ffa4dc1f53",
   "metadata": {},
   "outputs": [],
   "source": [
    "#def filter_outliers(data_o, data_ol, diff_min=0, diff_max=105):\n",
    "def filter_outliers(data_o, data_ol):\n",
    "    data_ol['total_price'] = data_ol['unit_price'] * data_ol['product_quantity']\n",
    "    price_info = (\n",
    "    data_ol\n",
    "        .groupby('id_order')\n",
    "        .agg({'total_price':'sum'})\n",
    "        .merge(data_o, how='inner', on='id_order')\n",
    "        .copy()\n",
    "    )\n",
    "    price_info= (\n",
    "    price_info\n",
    "        .assign(price_difference = round(price_info['total_paid'] - price_info['total_price'], 2)) \n",
    "    )\n",
    "    ids = (\n",
    "    price_info\n",
    "        .query('price_difference >= 0 & price_difference <= 105')\n",
    "        ['id_order'].tolist()\n",
    "    )\n",
    "    return ids\n",
    "\n",
    "def remove_outliers(data, id_list):\n",
    "    return data.query('id_order == @id_list')"
   ]
  },
  {
   "cell_type": "code",
   "execution_count": null,
   "id": "5d49bcd2-e307-48d2-90aa-3f798a1a80d2",
   "metadata": {},
   "outputs": [],
   "source": [
    "orders_clean = (\n",
    "orders\n",
    "    .pipe(start_pipeline)\n",
    "    .pipe(remove_outliers, id_list = filter_outliers(orders, orderlines))\n",
    ")"
   ]
  },
  {
   "cell_type": "code",
   "execution_count": null,
   "id": "10452a7d-2b94-4db0-8f68-0369ea168452",
   "metadata": {},
   "outputs": [],
   "source": [
    "orderlines_clean = (\n",
    "orderlines\n",
    "    .pipe(start_pipeline)\n",
    "    .pipe(remove_outliers, id_list = filter_outliers(orders, orderlines))\n",
    ")"
   ]
  },
  {
   "cell_type": "code",
   "execution_count": null,
   "id": "b7f9bcf3-a83c-4da8-980e-ea416a819d98",
   "metadata": {},
   "outputs": [],
   "source": []
  }
 ],
 "metadata": {
  "kernelspec": {
   "display_name": "Python 3",
   "language": "python",
   "name": "python3"
  },
  "language_info": {
   "codemirror_mode": {
    "name": "ipython",
    "version": 3
   },
   "file_extension": ".py",
   "mimetype": "text/x-python",
   "name": "python",
   "nbconvert_exporter": "python",
   "pygments_lexer": "ipython3",
   "version": "3.8.8"
  }
 },
 "nbformat": 4,
 "nbformat_minor": 5
}
