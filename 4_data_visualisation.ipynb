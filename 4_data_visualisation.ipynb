{
 "cells": [
  {
   "cell_type": "markdown",
   "id": "ebc55ff6",
   "metadata": {},
   "source": [
    "# Data visualisation with python"
   ]
  },
  {
   "cell_type": "markdown",
   "id": "bb5f01bd",
   "metadata": {},
   "source": [
    "Let's import the libraries and datasets we need:"
   ]
  },
  {
   "cell_type": "code",
   "execution_count": 1,
   "id": "0f471828",
   "metadata": {},
   "outputs": [],
   "source": [
    "import pandas as pd\n",
    "\n",
    "import matplotlib.pyplot as plt\n",
    "import seaborn as sns\n",
    "\n",
    "# do not display the number with scientific notation\n",
    "pd.options.display.float_format = '{:.2f}'.format"
   ]
  },
  {
   "cell_type": "code",
   "execution_count": 6,
   "id": "ede1d00f",
   "metadata": {},
   "outputs": [
    {
     "name": "stdout",
     "output_type": "stream",
     "text": [
      "['brands_cl.csv', 'orderlines_cl.csv', 'orders_cl.csv', 'products_cl.csv']\n"
     ]
    }
   ],
   "source": [
    "path = 'raw_data/clean/'\n",
    "\n",
    "import os\n",
    "path, dirs, files = next(os.walk(path))\n",
    "        \n",
    "print(files)\n",
    "\n",
    "# create empty list \n",
    "df_list = []\n",
    "\n",
    "# append datasets to the list\n",
    "for file in files: \n",
    "    temp_df = pd.read_csv(path + file, sep=',')\n",
    "    df_list.append(temp_df) \n",
    "\n",
    "# show results\n",
    "brands, orderlines, orders, products = df_list[0], df_list[1], df_list[2], df_list[3]"
   ]
  },
  {
   "cell_type": "markdown",
   "id": "a92b023c",
   "metadata": {},
   "source": [
    "Transform to date format the columns from orders and orderlines:"
   ]
  },
  {
   "cell_type": "code",
   "execution_count": 13,
   "id": "b412462f",
   "metadata": {},
   "outputs": [
    {
     "name": "stdout",
     "output_type": "stream",
     "text": [
      "<class 'pandas.core.frame.DataFrame'>\n",
      "RangeIndex: 10579 entries, 0 to 10578\n",
      "Data columns (total 5 columns):\n",
      " #   Column        Non-Null Count  Dtype  \n",
      "---  ------        --------------  -----  \n",
      " 0   sku           10579 non-null  object \n",
      " 1   name          10579 non-null  object \n",
      " 2   desc          10579 non-null  object \n",
      " 3   price         9992 non-null   float64\n",
      " 4   max_price_ol  342 non-null    object \n",
      "dtypes: float64(1), object(4)\n",
      "memory usage: 413.4+ KB\n"
     ]
    }
   ],
   "source": [
    "products.info()"
   ]
  },
  {
   "cell_type": "code",
   "execution_count": 4,
   "id": "da8e45d2",
   "metadata": {},
   "outputs": [],
   "source": [
    "orders['created_date'] = pd.to_datetime(orders['created_date'])\n",
    "orderlines['date'] = pd.to_datetime(orderlines['date'])"
   ]
  },
  {
   "cell_type": "code",
   "execution_count": 5,
   "id": "49bf3a33",
   "metadata": {},
   "outputs": [
    {
     "data": {
      "text/plain": [
       "663.1246286305671"
      ]
     },
     "execution_count": 5,
     "metadata": {},
     "output_type": "execute_result"
    }
   ],
   "source": [
    "products['price'].mean()"
   ]
  },
  {
   "cell_type": "markdown",
   "id": "6cf39c9c",
   "metadata": {},
   "source": [
    "## Company revenue"
   ]
  },
  {
   "cell_type": "markdown",
   "id": "f9478ff9",
   "metadata": {},
   "source": [
    "First I will need to filter only the orders that have a completed state: "
   ]
  },
  {
   "cell_type": "code",
   "execution_count": 6,
   "id": "a2cfab8a",
   "metadata": {},
   "outputs": [],
   "source": [
    "orders_compl = orders.query('state == \"Completed\"')"
   ]
  },
  {
   "cell_type": "markdown",
   "id": "1acbd4df",
   "metadata": {},
   "source": [
    "Before we create a visualisation, we always need to prepare our dataframe: "
   ]
  },
  {
   "cell_type": "code",
   "execution_count": 7,
   "id": "42063533",
   "metadata": {},
   "outputs": [
    {
     "data": {
      "text/html": [
       "<div>\n",
       "<style scoped>\n",
       "    .dataframe tbody tr th:only-of-type {\n",
       "        vertical-align: middle;\n",
       "    }\n",
       "\n",
       "    .dataframe tbody tr th {\n",
       "        vertical-align: top;\n",
       "    }\n",
       "\n",
       "    .dataframe thead th {\n",
       "        text-align: right;\n",
       "    }\n",
       "</style>\n",
       "<table border=\"1\" class=\"dataframe\">\n",
       "  <thead>\n",
       "    <tr style=\"text-align: right;\">\n",
       "      <th></th>\n",
       "      <th>year</th>\n",
       "      <th>month</th>\n",
       "      <th>total_paid</th>\n",
       "    </tr>\n",
       "  </thead>\n",
       "  <tbody>\n",
       "    <tr>\n",
       "      <th>0</th>\n",
       "      <td>2017</td>\n",
       "      <td>Apr</td>\n",
       "      <td>486962.21</td>\n",
       "    </tr>\n",
       "    <tr>\n",
       "      <th>1</th>\n",
       "      <td>2017</td>\n",
       "      <td>Aug</td>\n",
       "      <td>722055.81</td>\n",
       "    </tr>\n",
       "    <tr>\n",
       "      <th>2</th>\n",
       "      <td>2017</td>\n",
       "      <td>Dec</td>\n",
       "      <td>1897507.75</td>\n",
       "    </tr>\n",
       "    <tr>\n",
       "      <th>3</th>\n",
       "      <td>2017</td>\n",
       "      <td>Feb</td>\n",
       "      <td>623896.30</td>\n",
       "    </tr>\n",
       "    <tr>\n",
       "      <th>4</th>\n",
       "      <td>2017</td>\n",
       "      <td>Jan</td>\n",
       "      <td>1191437.34</td>\n",
       "    </tr>\n",
       "    <tr>\n",
       "      <th>5</th>\n",
       "      <td>2017</td>\n",
       "      <td>Jul</td>\n",
       "      <td>1127172.80</td>\n",
       "    </tr>\n",
       "    <tr>\n",
       "      <th>6</th>\n",
       "      <td>2017</td>\n",
       "      <td>Jun</td>\n",
       "      <td>690049.94</td>\n",
       "    </tr>\n",
       "    <tr>\n",
       "      <th>7</th>\n",
       "      <td>2017</td>\n",
       "      <td>Mar</td>\n",
       "      <td>115937.31</td>\n",
       "    </tr>\n",
       "    <tr>\n",
       "      <th>8</th>\n",
       "      <td>2017</td>\n",
       "      <td>May</td>\n",
       "      <td>646147.86</td>\n",
       "    </tr>\n",
       "    <tr>\n",
       "      <th>9</th>\n",
       "      <td>2017</td>\n",
       "      <td>Nov</td>\n",
       "      <td>2949487.12</td>\n",
       "    </tr>\n",
       "    <tr>\n",
       "      <th>10</th>\n",
       "      <td>2017</td>\n",
       "      <td>Oct</td>\n",
       "      <td>1087801.23</td>\n",
       "    </tr>\n",
       "    <tr>\n",
       "      <th>11</th>\n",
       "      <td>2017</td>\n",
       "      <td>Sep</td>\n",
       "      <td>861186.73</td>\n",
       "    </tr>\n",
       "    <tr>\n",
       "      <th>12</th>\n",
       "      <td>2018</td>\n",
       "      <td>Feb</td>\n",
       "      <td>1069705.72</td>\n",
       "    </tr>\n",
       "    <tr>\n",
       "      <th>13</th>\n",
       "      <td>2018</td>\n",
       "      <td>Jan</td>\n",
       "      <td>1960839.27</td>\n",
       "    </tr>\n",
       "    <tr>\n",
       "      <th>14</th>\n",
       "      <td>2018</td>\n",
       "      <td>Mar</td>\n",
       "      <td>476872.50</td>\n",
       "    </tr>\n",
       "  </tbody>\n",
       "</table>\n",
       "</div>"
      ],
      "text/plain": [
       "    year month  total_paid\n",
       "0   2017   Apr   486962.21\n",
       "1   2017   Aug   722055.81\n",
       "2   2017   Dec  1897507.75\n",
       "3   2017   Feb   623896.30\n",
       "4   2017   Jan  1191437.34\n",
       "5   2017   Jul  1127172.80\n",
       "6   2017   Jun   690049.94\n",
       "7   2017   Mar   115937.31\n",
       "8   2017   May   646147.86\n",
       "9   2017   Nov  2949487.12\n",
       "10  2017   Oct  1087801.23\n",
       "11  2017   Sep   861186.73\n",
       "12  2018   Feb  1069705.72\n",
       "13  2018   Jan  1960839.27\n",
       "14  2018   Mar   476872.50"
      ]
     },
     "execution_count": 7,
     "metadata": {},
     "output_type": "execute_result"
    }
   ],
   "source": [
    "p_df = (\n",
    "orders_compl\n",
    "    # create two new columns in our dataframe; year and month\n",
    "    .assign(year = orders['created_date'].dt.strftime('%Y'), \n",
    "           month = orders['created_date'].dt.strftime('%b'))\n",
    "    # get the total paid by each year and month\n",
    "    .groupby(['year','month'])\n",
    "    .agg({'total_paid':'sum'})\n",
    "    # reset the index to user the column vector in our plot\n",
    "    .reset_index()\n",
    ")\n",
    "p_df"
   ]
  },
  {
   "cell_type": "code",
   "execution_count": 8,
   "id": "a6ff06bc",
   "metadata": {},
   "outputs": [
    {
     "data": {
      "image/png": "[encoded data removed]",
      "text/plain": [
       "<Figure size 864x576 with 1 Axes>"
      ]
     },
     "metadata": {
      "needs_background": "light"
     },
     "output_type": "display_data"
    }
   ],
   "source": [
    "# Create a list with the months sorted from January to December\n",
    "# It is going to help us sort our columns appropriately\n",
    "months = ['Jan', 'Feb', 'Mar', 'Apr', 'May', 'Jun', \n",
    "          'Jul', 'Aug', 'Sep', 'Oct', 'Nov', 'Dec']\n",
    "\n",
    "# define de size of the plot: 12 with be the width, and 8 the height\n",
    "plt.subplots(figsize=(12, 8))\n",
    "\n",
    "\n",
    "p = sns.barplot(\n",
    "    data=p_df, # dataframe we will use to look for the columns information\n",
    "    x='month', # x values on our chart\n",
    "    y='total_paid', # y values on our chart\n",
    "    hue='year', # group color in our chart\n",
    "    order=months # order x columns\n",
    ")\n",
    "# add a horizontal reference line into the chart to know where the mean value will be\n",
    "p.axhline(\n",
    "    p_df['total_paid'].mean(), # value where you want to add your reference line\n",
    "    linestyle='--', # type of line you would like to see on the plot. You can find more informaiton on its documentation\n",
    "    color='gray'\n",
    ")\n",
    "\n",
    "plt.xlabel('Month') # x label name\n",
    "plt.ylabel('Total paid') # y label name\n",
    "plt.title('Total paid evolution through 2017 and 2018') # title\n",
    "plt.ticklabel_format(style='plain', axis='y') # remove scientific notation for the y axis\n",
    "plt.show() # show the plot"
   ]
  },
  {
   "cell_type": "markdown",
   "id": "cb92dc72",
   "metadata": {},
   "source": [
    "### Revenue distribution by order id"
   ]
  },
  {
   "cell_type": "markdown",
   "id": "a6217a0d",
   "metadata": {},
   "source": [
    "I would like to know more about the different values of `total_paid` for each order by month.\n",
    "\n",
    "Let's talk more about this concept: "
   ]
  },
  {
   "cell_type": "code",
   "execution_count": 9,
   "id": "dff82d33",
   "metadata": {},
   "outputs": [
    {
     "data": {
      "text/html": [
       "<div>\n",
       "<style scoped>\n",
       "    .dataframe tbody tr th:only-of-type {\n",
       "        vertical-align: middle;\n",
       "    }\n",
       "\n",
       "    .dataframe tbody tr th {\n",
       "        vertical-align: top;\n",
       "    }\n",
       "\n",
       "    .dataframe thead th {\n",
       "        text-align: right;\n",
       "    }\n",
       "</style>\n",
       "<table border=\"1\" class=\"dataframe\">\n",
       "  <thead>\n",
       "    <tr style=\"text-align: right;\">\n",
       "      <th></th>\n",
       "      <th>order_id</th>\n",
       "      <th>created_date</th>\n",
       "      <th>total_paid</th>\n",
       "      <th>state</th>\n",
       "      <th>check_orders</th>\n",
       "      <th>year</th>\n",
       "      <th>month</th>\n",
       "    </tr>\n",
       "  </thead>\n",
       "  <tbody>\n",
       "    <tr>\n",
       "      <th>1</th>\n",
       "      <td>241423</td>\n",
       "      <td>2017-11-06 13:10:02</td>\n",
       "      <td>136.15</td>\n",
       "      <td>Completed</td>\n",
       "      <td>True</td>\n",
       "      <td>2017</td>\n",
       "      <td>Nov</td>\n",
       "    </tr>\n",
       "    <tr>\n",
       "      <th>2</th>\n",
       "      <td>242832</td>\n",
       "      <td>2017-12-31 17:40:03</td>\n",
       "      <td>15.76</td>\n",
       "      <td>Completed</td>\n",
       "      <td>True</td>\n",
       "      <td>2017</td>\n",
       "      <td>Dec</td>\n",
       "    </tr>\n",
       "    <tr>\n",
       "      <th>3</th>\n",
       "      <td>243330</td>\n",
       "      <td>2017-02-16 10:59:38</td>\n",
       "      <td>84.98</td>\n",
       "      <td>Completed</td>\n",
       "      <td>True</td>\n",
       "      <td>2017</td>\n",
       "      <td>Feb</td>\n",
       "    </tr>\n",
       "    <tr>\n",
       "      <th>5</th>\n",
       "      <td>245275</td>\n",
       "      <td>2017-06-28 11:35:37</td>\n",
       "      <td>149.00</td>\n",
       "      <td>Completed</td>\n",
       "      <td>True</td>\n",
       "      <td>2017</td>\n",
       "      <td>Jun</td>\n",
       "    </tr>\n",
       "    <tr>\n",
       "      <th>6</th>\n",
       "      <td>245595</td>\n",
       "      <td>2017-01-21 12:52:47</td>\n",
       "      <td>112.97</td>\n",
       "      <td>Completed</td>\n",
       "      <td>True</td>\n",
       "      <td>2017</td>\n",
       "      <td>Jan</td>\n",
       "    </tr>\n",
       "    <tr>\n",
       "      <th>...</th>\n",
       "      <td>...</td>\n",
       "      <td>...</td>\n",
       "      <td>...</td>\n",
       "      <td>...</td>\n",
       "      <td>...</td>\n",
       "      <td>...</td>\n",
       "      <td>...</td>\n",
       "    </tr>\n",
       "    <tr>\n",
       "      <th>204403</th>\n",
       "      <td>527042</td>\n",
       "      <td>2018-03-14 11:47:50</td>\n",
       "      <td>18.98</td>\n",
       "      <td>Completed</td>\n",
       "      <td>True</td>\n",
       "      <td>2018</td>\n",
       "      <td>Mar</td>\n",
       "    </tr>\n",
       "    <tr>\n",
       "      <th>204423</th>\n",
       "      <td>527070</td>\n",
       "      <td>2018-03-14 11:50:48</td>\n",
       "      <td>24.97</td>\n",
       "      <td>Completed</td>\n",
       "      <td>True</td>\n",
       "      <td>2018</td>\n",
       "      <td>Mar</td>\n",
       "    </tr>\n",
       "    <tr>\n",
       "      <th>204426</th>\n",
       "      <td>527074</td>\n",
       "      <td>2018-03-14 11:51:42</td>\n",
       "      <td>24.97</td>\n",
       "      <td>Completed</td>\n",
       "      <td>True</td>\n",
       "      <td>2018</td>\n",
       "      <td>Mar</td>\n",
       "    </tr>\n",
       "    <tr>\n",
       "      <th>204444</th>\n",
       "      <td>527096</td>\n",
       "      <td>2018-03-14 11:58:40</td>\n",
       "      <td>34.96</td>\n",
       "      <td>Completed</td>\n",
       "      <td>True</td>\n",
       "      <td>2018</td>\n",
       "      <td>Mar</td>\n",
       "    </tr>\n",
       "    <tr>\n",
       "      <th>204456</th>\n",
       "      <td>527112</td>\n",
       "      <td>2018-03-14 12:03:52</td>\n",
       "      <td>14.98</td>\n",
       "      <td>Completed</td>\n",
       "      <td>True</td>\n",
       "      <td>2018</td>\n",
       "      <td>Mar</td>\n",
       "    </tr>\n",
       "  </tbody>\n",
       "</table>\n",
       "<p>46560 rows × 7 columns</p>\n",
       "</div>"
      ],
      "text/plain": [
       "        order_id        created_date  total_paid      state  check_orders  \\\n",
       "1         241423 2017-11-06 13:10:02      136.15  Completed          True   \n",
       "2         242832 2017-12-31 17:40:03       15.76  Completed          True   \n",
       "3         243330 2017-02-16 10:59:38       84.98  Completed          True   \n",
       "5         245275 2017-06-28 11:35:37      149.00  Completed          True   \n",
       "6         245595 2017-01-21 12:52:47      112.97  Completed          True   \n",
       "...          ...                 ...         ...        ...           ...   \n",
       "204403    527042 2018-03-14 11:47:50       18.98  Completed          True   \n",
       "204423    527070 2018-03-14 11:50:48       24.97  Completed          True   \n",
       "204426    527074 2018-03-14 11:51:42       24.97  Completed          True   \n",
       "204444    527096 2018-03-14 11:58:40       34.96  Completed          True   \n",
       "204456    527112 2018-03-14 12:03:52       14.98  Completed          True   \n",
       "\n",
       "        year month  \n",
       "1       2017   Nov  \n",
       "2       2017   Dec  \n",
       "3       2017   Feb  \n",
       "5       2017   Jun  \n",
       "6       2017   Jan  \n",
       "...      ...   ...  \n",
       "204403  2018   Mar  \n",
       "204423  2018   Mar  \n",
       "204426  2018   Mar  \n",
       "204444  2018   Mar  \n",
       "204456  2018   Mar  \n",
       "\n",
       "[46560 rows x 7 columns]"
      ]
     },
     "execution_count": 9,
     "metadata": {},
     "output_type": "execute_result"
    }
   ],
   "source": [
    "p_df = (\n",
    "orders_compl\n",
    "    # create year and month\n",
    "    .assign(year = orders['created_date'].dt.strftime('%Y'), \n",
    "           month = orders['created_date'].dt.strftime('%b'))\n",
    ")\n",
    "p_df"
   ]
  },
  {
   "cell_type": "markdown",
   "id": "08d4ba45",
   "metadata": {},
   "source": [
    "If we create a barplot directly: "
   ]
  },
  {
   "cell_type": "code",
   "execution_count": 10,
   "id": "13135c78",
   "metadata": {},
   "outputs": [
    {
     "data": {
      "image/png": "[encoded data removed]",
      "text/plain": [
       "<Figure size 864x576 with 1 Axes>"
      ]
     },
     "metadata": {
      "needs_background": "light"
     },
     "output_type": "display_data"
    }
   ],
   "source": [
    "months = ['Jan', 'Feb', 'Mar', 'Apr', 'May', 'Jun', \n",
    "          'Jul', 'Aug', 'Sep', 'Oct', 'Nov', 'Dec']\n",
    "\n",
    "plt.subplots(figsize=(12, 8))\n",
    "\n",
    "sns.barplot(data=p_df, x='month', y='total_paid', hue='year', order=months)\n",
    "\n",
    "plt.xlabel('Month')\n",
    "plt.ylabel('Total paid')\n",
    "plt.title('Total paid evolution through 2017 and 2018')\n",
    "plt.ticklabel_format(style='plain', axis='y')\n",
    "plt.show()"
   ]
  },
  {
   "cell_type": "markdown",
   "id": "e5fed2a2",
   "metadata": {},
   "source": [
    "Look at the description of `?sns.barplot` to undersand more about the chart. What's the meaning of the dark lines on top of each bar?"
   ]
  },
  {
   "cell_type": "markdown",
   "id": "79db6288",
   "metadata": {},
   "source": [
    "A better way to see the distribution by month would be to use another type of chart; the boxplot. "
   ]
  },
  {
   "cell_type": "code",
   "execution_count": 11,
   "id": "ca41042a",
   "metadata": {},
   "outputs": [
    {
     "data": {
      "image/png": "[encoded data removed]",
      "text/plain": [
       "<Figure size 864x576 with 1 Axes>"
      ]
     },
     "metadata": {
      "needs_background": "light"
     },
     "output_type": "display_data"
    }
   ],
   "source": [
    "months = ['Jan', 'Feb', 'Mar', 'Apr', 'May', 'Jun', \n",
    "          'Jul', 'Aug', 'Sep', 'Oct', 'Nov', 'Dec']\n",
    "\n",
    "plt.subplots(figsize=(12, 8))\n",
    "\n",
    "sns.boxplot(data=p_df, x='month', y='total_paid', hue='year', order=months)\n",
    "\n",
    "plt.ylim(0, 800) # define a limit to put focus on your chart\n",
    "plt.xlabel('Month')\n",
    "plt.ylabel('Total paid')\n",
    "plt.title('Total paid evolution through 2017 and 2018')\n",
    "plt.ticklabel_format(style='plain', axis='y')\n",
    "plt.show()"
   ]
  },
  {
   "cell_type": "markdown",
   "id": "cd0063b6",
   "metadata": {},
   "source": [
    "What I am seeing on this chart? Well, the [boxplot](https://en.wikipedia.org/wiki/Box_plot) is a representaition of the pandas function `.describe()`. It shows the main descriptive statistics of a distribution. "
   ]
  },
  {
   "cell_type": "code",
   "execution_count": 12,
   "id": "e260ebb2",
   "metadata": {},
   "outputs": [
    {
     "data": {
      "text/html": [
       "<div>\n",
       "<style scoped>\n",
       "    .dataframe tbody tr th:only-of-type {\n",
       "        vertical-align: middle;\n",
       "    }\n",
       "\n",
       "    .dataframe tbody tr th {\n",
       "        vertical-align: top;\n",
       "    }\n",
       "\n",
       "    .dataframe thead tr th {\n",
       "        text-align: left;\n",
       "    }\n",
       "\n",
       "    .dataframe thead tr:last-of-type th {\n",
       "        text-align: right;\n",
       "    }\n",
       "</style>\n",
       "<table border=\"1\" class=\"dataframe\">\n",
       "  <thead>\n",
       "    <tr>\n",
       "      <th></th>\n",
       "      <th></th>\n",
       "      <th colspan=\"8\" halign=\"left\">total_paid</th>\n",
       "    </tr>\n",
       "    <tr>\n",
       "      <th></th>\n",
       "      <th></th>\n",
       "      <th>count</th>\n",
       "      <th>mean</th>\n",
       "      <th>std</th>\n",
       "      <th>min</th>\n",
       "      <th>25%</th>\n",
       "      <th>50%</th>\n",
       "      <th>75%</th>\n",
       "      <th>max</th>\n",
       "    </tr>\n",
       "    <tr>\n",
       "      <th>year</th>\n",
       "      <th>month</th>\n",
       "      <th></th>\n",
       "      <th></th>\n",
       "      <th></th>\n",
       "      <th></th>\n",
       "      <th></th>\n",
       "      <th></th>\n",
       "      <th></th>\n",
       "      <th></th>\n",
       "    </tr>\n",
       "  </thead>\n",
       "  <tbody>\n",
       "    <tr>\n",
       "      <th rowspan=\"12\" valign=\"top\">2017</th>\n",
       "      <th>Apr</th>\n",
       "      <td>1632.00</td>\n",
       "      <td>298.38</td>\n",
       "      <td>614.30</td>\n",
       "      <td>4.99</td>\n",
       "      <td>49.99</td>\n",
       "      <td>89.99</td>\n",
       "      <td>262.98</td>\n",
       "      <td>9423.90</td>\n",
       "    </tr>\n",
       "    <tr>\n",
       "      <th>Aug</th>\n",
       "      <td>2350.00</td>\n",
       "      <td>307.26</td>\n",
       "      <td>599.39</td>\n",
       "      <td>7.78</td>\n",
       "      <td>51.10</td>\n",
       "      <td>109.99</td>\n",
       "      <td>317.23</td>\n",
       "      <td>10586.97</td>\n",
       "    </tr>\n",
       "    <tr>\n",
       "      <th>Dec</th>\n",
       "      <td>5506.00</td>\n",
       "      <td>344.63</td>\n",
       "      <td>585.87</td>\n",
       "      <td>6.98</td>\n",
       "      <td>49.98</td>\n",
       "      <td>119.98</td>\n",
       "      <td>362.97</td>\n",
       "      <td>6657.46</td>\n",
       "    </tr>\n",
       "    <tr>\n",
       "      <th>Feb</th>\n",
       "      <td>2273.00</td>\n",
       "      <td>274.48</td>\n",
       "      <td>520.73</td>\n",
       "      <td>3.99</td>\n",
       "      <td>42.98</td>\n",
       "      <td>94.97</td>\n",
       "      <td>254.98</td>\n",
       "      <td>4163.98</td>\n",
       "    </tr>\n",
       "    <tr>\n",
       "      <th>Jan</th>\n",
       "      <td>5111.00</td>\n",
       "      <td>233.11</td>\n",
       "      <td>522.33</td>\n",
       "      <td>0.00</td>\n",
       "      <td>37.93</td>\n",
       "      <td>72.96</td>\n",
       "      <td>174.98</td>\n",
       "      <td>7230.97</td>\n",
       "    </tr>\n",
       "    <tr>\n",
       "      <th>Jul</th>\n",
       "      <td>3438.00</td>\n",
       "      <td>327.86</td>\n",
       "      <td>602.56</td>\n",
       "      <td>7.48</td>\n",
       "      <td>44.98</td>\n",
       "      <td>110.97</td>\n",
       "      <td>365.99</td>\n",
       "      <td>7216.77</td>\n",
       "    </tr>\n",
       "    <tr>\n",
       "      <th>Jun</th>\n",
       "      <td>1603.00</td>\n",
       "      <td>430.47</td>\n",
       "      <td>752.93</td>\n",
       "      <td>8.89</td>\n",
       "      <td>54.98</td>\n",
       "      <td>137.98</td>\n",
       "      <td>419.98</td>\n",
       "      <td>6698.00</td>\n",
       "    </tr>\n",
       "    <tr>\n",
       "      <th>Mar</th>\n",
       "      <td>202.00</td>\n",
       "      <td>573.95</td>\n",
       "      <td>1208.63</td>\n",
       "      <td>2.82</td>\n",
       "      <td>39.99</td>\n",
       "      <td>106.98</td>\n",
       "      <td>326.74</td>\n",
       "      <td>9987.76</td>\n",
       "    </tr>\n",
       "    <tr>\n",
       "      <th>May</th>\n",
       "      <td>1892.00</td>\n",
       "      <td>341.52</td>\n",
       "      <td>594.72</td>\n",
       "      <td>8.98</td>\n",
       "      <td>56.25</td>\n",
       "      <td>115.00</td>\n",
       "      <td>318.96</td>\n",
       "      <td>5335.00</td>\n",
       "    </tr>\n",
       "    <tr>\n",
       "      <th>Nov</th>\n",
       "      <td>7187.00</td>\n",
       "      <td>410.39</td>\n",
       "      <td>683.62</td>\n",
       "      <td>6.53</td>\n",
       "      <td>71.48</td>\n",
       "      <td>161.23</td>\n",
       "      <td>418.98</td>\n",
       "      <td>13387.78</td>\n",
       "    </tr>\n",
       "    <tr>\n",
       "      <th>Oct</th>\n",
       "      <td>3135.00</td>\n",
       "      <td>346.99</td>\n",
       "      <td>610.90</td>\n",
       "      <td>6.98</td>\n",
       "      <td>49.98</td>\n",
       "      <td>122.24</td>\n",
       "      <td>344.07</td>\n",
       "      <td>6227.77</td>\n",
       "    </tr>\n",
       "    <tr>\n",
       "      <th>Sep</th>\n",
       "      <td>2180.00</td>\n",
       "      <td>395.04</td>\n",
       "      <td>682.26</td>\n",
       "      <td>6.98</td>\n",
       "      <td>52.20</td>\n",
       "      <td>131.78</td>\n",
       "      <td>380.38</td>\n",
       "      <td>7376.58</td>\n",
       "    </tr>\n",
       "    <tr>\n",
       "      <th rowspan=\"3\" valign=\"top\">2018</th>\n",
       "      <th>Feb</th>\n",
       "      <td>3334.00</td>\n",
       "      <td>320.85</td>\n",
       "      <td>587.50</td>\n",
       "      <td>6.98</td>\n",
       "      <td>49.98</td>\n",
       "      <td>113.97</td>\n",
       "      <td>292.98</td>\n",
       "      <td>6034.97</td>\n",
       "    </tr>\n",
       "    <tr>\n",
       "      <th>Jan</th>\n",
       "      <td>5202.00</td>\n",
       "      <td>376.94</td>\n",
       "      <td>665.62</td>\n",
       "      <td>6.48</td>\n",
       "      <td>53.99</td>\n",
       "      <td>112.97</td>\n",
       "      <td>362.99</td>\n",
       "      <td>7268.58</td>\n",
       "    </tr>\n",
       "    <tr>\n",
       "      <th>Mar</th>\n",
       "      <td>1515.00</td>\n",
       "      <td>314.77</td>\n",
       "      <td>633.07</td>\n",
       "      <td>6.98</td>\n",
       "      <td>44.98</td>\n",
       "      <td>96.98</td>\n",
       "      <td>258.04</td>\n",
       "      <td>6656.98</td>\n",
       "    </tr>\n",
       "  </tbody>\n",
       "</table>\n",
       "</div>"
      ],
      "text/plain": [
       "           total_paid                                                 \n",
       "                count   mean     std  min   25%    50%    75%      max\n",
       "year month                                                            \n",
       "2017 Apr      1632.00 298.38  614.30 4.99 49.99  89.99 262.98  9423.90\n",
       "     Aug      2350.00 307.26  599.39 7.78 51.10 109.99 317.23 10586.97\n",
       "     Dec      5506.00 344.63  585.87 6.98 49.98 119.98 362.97  6657.46\n",
       "     Feb      2273.00 274.48  520.73 3.99 42.98  94.97 254.98  4163.98\n",
       "     Jan      5111.00 233.11  522.33 0.00 37.93  72.96 174.98  7230.97\n",
       "     Jul      3438.00 327.86  602.56 7.48 44.98 110.97 365.99  7216.77\n",
       "     Jun      1603.00 430.47  752.93 8.89 54.98 137.98 419.98  6698.00\n",
       "     Mar       202.00 573.95 1208.63 2.82 39.99 106.98 326.74  9987.76\n",
       "     May      1892.00 341.52  594.72 8.98 56.25 115.00 318.96  5335.00\n",
       "     Nov      7187.00 410.39  683.62 6.53 71.48 161.23 418.98 13387.78\n",
       "     Oct      3135.00 346.99  610.90 6.98 49.98 122.24 344.07  6227.77\n",
       "     Sep      2180.00 395.04  682.26 6.98 52.20 131.78 380.38  7376.58\n",
       "2018 Feb      3334.00 320.85  587.50 6.98 49.98 113.97 292.98  6034.97\n",
       "     Jan      5202.00 376.94  665.62 6.48 53.99 112.97 362.99  7268.58\n",
       "     Mar      1515.00 314.77  633.07 6.98 44.98  96.98 258.04  6656.98"
      ]
     },
     "execution_count": 12,
     "metadata": {},
     "output_type": "execute_result"
    }
   ],
   "source": [
    "(\n",
    "p_df\n",
    "    # select this 3 columns\n",
    "    .filter(['year','month','total_paid'])\n",
    "    # apply the describe function to this two groups\n",
    "    .groupby(['year','month'])\n",
    "    .describe()\n",
    ")"
   ]
  },
  {
   "cell_type": "markdown",
   "id": "2df27b93",
   "metadata": {},
   "source": [
    "As you can see, most of our transactions have monthly median values around 100, but maximum values go up to 10,000 and the standard deviation is huge. So we have very different types of customers. \n",
    "\n",
    "A possible hypothesis is that we have a large group of low-paying customers who are end-users and a small group of 'whale' customers who are companies. What's your hypothesis?"
   ]
  },
  {
   "cell_type": "markdown",
   "id": "4dd5e9d9",
   "metadata": {},
   "source": [
    "### Revenue: zoom in January"
   ]
  },
  {
   "cell_type": "markdown",
   "id": "95b311b0",
   "metadata": {},
   "source": [
    "We can zoom into the distribution of one month by filtering one month in our dataset:"
   ]
  },
  {
   "cell_type": "code",
   "execution_count": 13,
   "id": "49d06330",
   "metadata": {},
   "outputs": [],
   "source": [
    "p_df_jan = p_df.query('month == \"Jan\"')"
   ]
  },
  {
   "cell_type": "code",
   "execution_count": 14,
   "id": "d33458d4",
   "metadata": {},
   "outputs": [
    {
     "data": {
      "image/png": "[encoded data removed]",
      "text/plain": [
       "<Figure size 864x576 with 1 Axes>"
      ]
     },
     "metadata": {
      "needs_background": "light"
     },
     "output_type": "display_data"
    }
   ],
   "source": [
    "plt.subplots(figsize=(12, 8))\n",
    "\n",
    "sns.histplot(data=p_df_jan, x='total_paid', hue='year', \n",
    "             alpha=.3, # add transparency to you chart\n",
    "             kde=True, # add a density line in the histogram\n",
    "             bins=1000 # define the number of bins the variable total paid will be grouped\n",
    "            )\n",
    "\n",
    "plt.xlim(0, 2000)\n",
    "plt.title('Comparing the distributions of total paid between Jan 2017/18')\n",
    "plt.xlabel('Total paid')\n",
    "sns.despine() # remove the top and right margin, to make your plot prettier \n",
    "plt.show()"
   ]
  },
  {
   "cell_type": "markdown",
   "id": "9ad31d68",
   "metadata": {},
   "source": [
    "Looking at this distributions, we can see that in 2017 there have been more orders with a `total_paid` smaller than in 2018. While in 2018 we have several spikes between 1000 and 1500, which indicates that there are more orders with a higer price in average. \n",
    "\n",
    "Let's check this hypothesis: "
   ]
  },
  {
   "cell_type": "code",
   "execution_count": 15,
   "id": "4893d1f3",
   "metadata": {},
   "outputs": [
    {
     "data": {
      "text/html": [
       "<div>\n",
       "<style scoped>\n",
       "    .dataframe tbody tr th:only-of-type {\n",
       "        vertical-align: middle;\n",
       "    }\n",
       "\n",
       "    .dataframe tbody tr th {\n",
       "        vertical-align: top;\n",
       "    }\n",
       "\n",
       "    .dataframe thead tr th {\n",
       "        text-align: left;\n",
       "    }\n",
       "\n",
       "    .dataframe thead tr:last-of-type th {\n",
       "        text-align: right;\n",
       "    }\n",
       "</style>\n",
       "<table border=\"1\" class=\"dataframe\">\n",
       "  <thead>\n",
       "    <tr>\n",
       "      <th></th>\n",
       "      <th colspan=\"3\" halign=\"left\">total_paid</th>\n",
       "    </tr>\n",
       "    <tr>\n",
       "      <th></th>\n",
       "      <th>mean</th>\n",
       "      <th>median</th>\n",
       "      <th>std</th>\n",
       "    </tr>\n",
       "    <tr>\n",
       "      <th>year</th>\n",
       "      <th></th>\n",
       "      <th></th>\n",
       "      <th></th>\n",
       "    </tr>\n",
       "  </thead>\n",
       "  <tbody>\n",
       "    <tr>\n",
       "      <th>2017</th>\n",
       "      <td>233.11</td>\n",
       "      <td>72.96</td>\n",
       "      <td>522.33</td>\n",
       "    </tr>\n",
       "    <tr>\n",
       "      <th>2018</th>\n",
       "      <td>376.94</td>\n",
       "      <td>112.97</td>\n",
       "      <td>665.62</td>\n",
       "    </tr>\n",
       "  </tbody>\n",
       "</table>\n",
       "</div>"
      ],
      "text/plain": [
       "     total_paid              \n",
       "           mean median    std\n",
       "year                         \n",
       "2017     233.11  72.96 522.33\n",
       "2018     376.94 112.97 665.62"
      ]
     },
     "execution_count": 15,
     "metadata": {},
     "output_type": "execute_result"
    }
   ],
   "source": [
    "p_df_jan.groupby('year').agg({'total_paid':['mean','median','std']})"
   ]
  },
  {
   "cell_type": "markdown",
   "id": "0af15f18",
   "metadata": {},
   "source": [
    "My theory is confirmed when we aggregate the data. The standard deviation for 2018 also shows us that there is a higher dispersion compared to 2017, caused mainly but these orders around 1250 euros.\n",
    "\n",
    "Let's see if we can zoom in into the products information for january. "
   ]
  },
  {
   "cell_type": "code",
   "execution_count": 16,
   "id": "63ad593f",
   "metadata": {},
   "outputs": [
    {
     "data": {
      "text/html": [
       "<div>\n",
       "<style scoped>\n",
       "    .dataframe tbody tr th:only-of-type {\n",
       "        vertical-align: middle;\n",
       "    }\n",
       "\n",
       "    .dataframe tbody tr th {\n",
       "        vertical-align: top;\n",
       "    }\n",
       "\n",
       "    .dataframe thead th {\n",
       "        text-align: right;\n",
       "    }\n",
       "</style>\n",
       "<table border=\"1\" class=\"dataframe\">\n",
       "  <thead>\n",
       "    <tr style=\"text-align: right;\">\n",
       "      <th></th>\n",
       "      <th>year</th>\n",
       "      <th>sku</th>\n",
       "      <th>unit_price</th>\n",
       "    </tr>\n",
       "  </thead>\n",
       "  <tbody>\n",
       "    <tr>\n",
       "      <th>1307</th>\n",
       "      <td>2017</td>\n",
       "      <td>PAC1240</td>\n",
       "      <td>21966.00</td>\n",
       "    </tr>\n",
       "    <tr>\n",
       "      <th>844</th>\n",
       "      <td>2017</td>\n",
       "      <td>LGE0044</td>\n",
       "      <td>20341.65</td>\n",
       "    </tr>\n",
       "    <tr>\n",
       "      <th>231</th>\n",
       "      <td>2017</td>\n",
       "      <td>APP1810</td>\n",
       "      <td>17399.89</td>\n",
       "    </tr>\n",
       "    <tr>\n",
       "      <th>262</th>\n",
       "      <td>2017</td>\n",
       "      <td>APP1940</td>\n",
       "      <td>12564.93</td>\n",
       "    </tr>\n",
       "    <tr>\n",
       "      <th>1283</th>\n",
       "      <td>2017</td>\n",
       "      <td>PAC1035</td>\n",
       "      <td>12043.96</td>\n",
       "    </tr>\n",
       "    <tr>\n",
       "      <th>236</th>\n",
       "      <td>2017</td>\n",
       "      <td>APP1818</td>\n",
       "      <td>11939.96</td>\n",
       "    </tr>\n",
       "    <tr>\n",
       "      <th>250</th>\n",
       "      <td>2017</td>\n",
       "      <td>APP1876</td>\n",
       "      <td>11644.97</td>\n",
       "    </tr>\n",
       "    <tr>\n",
       "      <th>1828</th>\n",
       "      <td>2017</td>\n",
       "      <td>WAC0090</td>\n",
       "      <td>10183.36</td>\n",
       "    </tr>\n",
       "    <tr>\n",
       "      <th>847</th>\n",
       "      <td>2017</td>\n",
       "      <td>LGE0047</td>\n",
       "      <td>8819.93</td>\n",
       "    </tr>\n",
       "    <tr>\n",
       "      <th>1280</th>\n",
       "      <td>2017</td>\n",
       "      <td>PAC0963</td>\n",
       "      <td>8366.97</td>\n",
       "    </tr>\n",
       "    <tr>\n",
       "      <th>1959</th>\n",
       "      <td>2018</td>\n",
       "      <td>PAC0929</td>\n",
       "      <td>2565.99</td>\n",
       "    </tr>\n",
       "    <tr>\n",
       "      <th>1963</th>\n",
       "      <td>2018</td>\n",
       "      <td>WDT0312</td>\n",
       "      <td>819.99</td>\n",
       "    </tr>\n",
       "    <tr>\n",
       "      <th>1962</th>\n",
       "      <td>2018</td>\n",
       "      <td>SYN0139</td>\n",
       "      <td>166.24</td>\n",
       "    </tr>\n",
       "    <tr>\n",
       "      <th>1958</th>\n",
       "      <td>2018</td>\n",
       "      <td>APP1190</td>\n",
       "      <td>56.00</td>\n",
       "    </tr>\n",
       "    <tr>\n",
       "      <th>1960</th>\n",
       "      <td>2018</td>\n",
       "      <td>SAT0010</td>\n",
       "      <td>18.99</td>\n",
       "    </tr>\n",
       "    <tr>\n",
       "      <th>1961</th>\n",
       "      <td>2018</td>\n",
       "      <td>STA0011</td>\n",
       "      <td>3.99</td>\n",
       "    </tr>\n",
       "  </tbody>\n",
       "</table>\n",
       "</div>"
      ],
      "text/plain": [
       "      year      sku  unit_price\n",
       "1307  2017  PAC1240    21966.00\n",
       "844   2017  LGE0044    20341.65\n",
       "231   2017  APP1810    17399.89\n",
       "262   2017  APP1940    12564.93\n",
       "1283  2017  PAC1035    12043.96\n",
       "236   2017  APP1818    11939.96\n",
       "250   2017  APP1876    11644.97\n",
       "1828  2017  WAC0090    10183.36\n",
       "847   2017  LGE0047     8819.93\n",
       "1280  2017  PAC0963     8366.97\n",
       "1959  2018  PAC0929     2565.99\n",
       "1963  2018  WDT0312      819.99\n",
       "1962  2018  SYN0139      166.24\n",
       "1958  2018  APP1190       56.00\n",
       "1960  2018  SAT0010       18.99\n",
       "1961  2018  STA0011        3.99"
      ]
     },
     "execution_count": 16,
     "metadata": {},
     "output_type": "execute_result"
    }
   ],
   "source": [
    "# we already have the completed orders for January of both year in our p_df_jan, let's it to locate them on the orderlines file\n",
    "p_sku_jan = (\n",
    "orderlines\n",
    "    # filter all the orders id in orderlines for month of january (2017 and 2018)\n",
    "    .loc[orderlines['id_order'].isin(p_df_jan['order_id'])]\n",
    "    .assign(year = orderlines['date'].dt.strftime('%Y'))\n",
    "    .groupby(['year','sku'])\n",
    "    #only unit_price not total_price taking into accoutn the product quantity\n",
    "    .agg({'unit_price':'sum'})\n",
    "    .reset_index()\n",
    "    .sort_values('unit_price', ascending=False)\n",
    "    .groupby('year')\n",
    "    .head(10)\n",
    ")\n",
    "p_sku_jan"
   ]
  },
  {
   "cell_type": "code",
   "execution_count": 17,
   "id": "2441d13b",
   "metadata": {},
   "outputs": [
    {
     "data": {
      "text/html": [
       "<div>\n",
       "<style scoped>\n",
       "    .dataframe tbody tr th:only-of-type {\n",
       "        vertical-align: middle;\n",
       "    }\n",
       "\n",
       "    .dataframe tbody tr th {\n",
       "        vertical-align: top;\n",
       "    }\n",
       "\n",
       "    .dataframe thead th {\n",
       "        text-align: right;\n",
       "    }\n",
       "</style>\n",
       "<table border=\"1\" class=\"dataframe\">\n",
       "  <thead>\n",
       "    <tr style=\"text-align: right;\">\n",
       "      <th></th>\n",
       "      <th>year</th>\n",
       "      <th>sku</th>\n",
       "      <th>unit_price</th>\n",
       "      <th>name</th>\n",
       "      <th>desc</th>\n",
       "      <th>price</th>\n",
       "    </tr>\n",
       "  </thead>\n",
       "  <tbody>\n",
       "    <tr>\n",
       "      <th>0</th>\n",
       "      <td>2017</td>\n",
       "      <td>PAC1240</td>\n",
       "      <td>21966.00</td>\n",
       "      <td>Apple MacBook Pro 133 \"i5 25GHz | RAM 16GB | 5...</td>\n",
       "      <td>Apple MacBook Pro 133 inches (MD101Y / A) with...</td>\n",
       "      <td>1899.00</td>\n",
       "    </tr>\n",
       "    <tr>\n",
       "      <th>1</th>\n",
       "      <td>2017</td>\n",
       "      <td>LGE0044</td>\n",
       "      <td>20341.65</td>\n",
       "      <td>LG 27UD88-W Monitor 27 \"UHD 4K USB 3.0 USB-C</td>\n",
       "      <td>99% Professional Monitor sRGB color calibrator...</td>\n",
       "      <td>599.00</td>\n",
       "    </tr>\n",
       "    <tr>\n",
       "      <th>2</th>\n",
       "      <td>2017</td>\n",
       "      <td>APP1810</td>\n",
       "      <td>17399.89</td>\n",
       "      <td>Apple MacBook Pro 13 \"Core i5 2GHz | 8GB RAM |...</td>\n",
       "      <td>MacBook Pro 13 inch i5 2GHz with 8GB RAM and 2...</td>\n",
       "      <td>1699.00</td>\n",
       "    </tr>\n",
       "    <tr>\n",
       "      <th>3</th>\n",
       "      <td>2017</td>\n",
       "      <td>APP1940</td>\n",
       "      <td>12564.93</td>\n",
       "      <td>Apple MacBook Pro Retina 13 \"i5 27 Ghz | RAM 1...</td>\n",
       "      <td>MacBook Pro 13-inch Retina display 27 Ghz i5 |...</td>\n",
       "      <td>1924.00</td>\n",
       "    </tr>\n",
       "    <tr>\n",
       "      <th>4</th>\n",
       "      <td>2017</td>\n",
       "      <td>PAC1035</td>\n",
       "      <td>12043.96</td>\n",
       "      <td>Apple iMac 27 \"Core i7 Retina 5K 4GHz | 32GB |...</td>\n",
       "      <td>IMac desktop computer 27 inch 5K Retina 4GHz i...</td>\n",
       "      <td>3649.00</td>\n",
       "    </tr>\n",
       "    <tr>\n",
       "      <th>5</th>\n",
       "      <td>2017</td>\n",
       "      <td>APP1818</td>\n",
       "      <td>11939.96</td>\n",
       "      <td>Apple MacBook Pro 15 \"Core i7 Touch Bar 27GHz ...</td>\n",
       "      <td>New MacBook Pro 15-inch Touch Bar to 27GHz Cor...</td>\n",
       "      <td>3199.00</td>\n",
       "    </tr>\n",
       "    <tr>\n",
       "      <th>6</th>\n",
       "      <td>2017</td>\n",
       "      <td>APP1876</td>\n",
       "      <td>11644.97</td>\n",
       "      <td>Apple MacBook Pro 15 \"Core i7 Touch Bar 29GHz ...</td>\n",
       "      <td>New MacBook Pro 15-inch Core i7 Touch Bar 29Gh...</td>\n",
       "      <td>4039.00</td>\n",
       "    </tr>\n",
       "    <tr>\n",
       "      <th>7</th>\n",
       "      <td>2017</td>\n",
       "      <td>WAC0090</td>\n",
       "      <td>10183.36</td>\n",
       "      <td>Wacom Cintiq 13HD Graphic Tablet 13 \"LED</td>\n",
       "      <td>Graphics Tablet 13-inch LED HD display with 20...</td>\n",
       "      <td>899.99</td>\n",
       "    </tr>\n",
       "    <tr>\n",
       "      <th>8</th>\n",
       "      <td>2017</td>\n",
       "      <td>LGE0047</td>\n",
       "      <td>8819.93</td>\n",
       "      <td>LG 38UC99-W Monitor 38 \"UHD 4K USB 3.0 USB-C</td>\n",
       "      <td>Monitor curved 38 inch IPS 4K ultra high defin...</td>\n",
       "      <td>1299.00</td>\n",
       "    </tr>\n",
       "    <tr>\n",
       "      <th>9</th>\n",
       "      <td>2017</td>\n",
       "      <td>PAC0963</td>\n",
       "      <td>8366.97</td>\n",
       "      <td>Apple iMac 27 \"Core i7 Retina 5K 4GHz | 32GB |...</td>\n",
       "      <td>IMac desktop computer 27 inch 5K Retina 4GHz i...</td>\n",
       "      <td>3409.00</td>\n",
       "    </tr>\n",
       "    <tr>\n",
       "      <th>10</th>\n",
       "      <td>2018</td>\n",
       "      <td>PAC0929</td>\n",
       "      <td>2565.99</td>\n",
       "      <td>Apple iMac 27 \"Core i5 3.2GHz Retina 5K | 32GB...</td>\n",
       "      <td>IMac desktop computer 27 inch Retina 5K RAM 32...</td>\n",
       "      <td>3209.00</td>\n",
       "    </tr>\n",
       "    <tr>\n",
       "      <th>11</th>\n",
       "      <td>2018</td>\n",
       "      <td>WDT0312</td>\n",
       "      <td>819.99</td>\n",
       "      <td>Western Digital My Book Pro 12TB Thunderbolt 2</td>\n",
       "      <td>12TB external hard drive and dual Thunderbolt ...</td>\n",
       "      <td>939.99</td>\n",
       "    </tr>\n",
       "    <tr>\n",
       "      <th>12</th>\n",
       "      <td>2018</td>\n",
       "      <td>SYN0139</td>\n",
       "      <td>166.24</td>\n",
       "      <td>Synology DS216j NAS Server Mac and PC</td>\n",
       "      <td>NAS server 2 bays and 2 USB 3.0 high-speed por...</td>\n",
       "      <td>175.99</td>\n",
       "    </tr>\n",
       "    <tr>\n",
       "      <th>13</th>\n",
       "      <td>2018</td>\n",
       "      <td>APP1190</td>\n",
       "      <td>56.00</td>\n",
       "      <td>IPhone AppleCare Protection Plan</td>\n",
       "      <td>Apple Care extended warranty iPhone.</td>\n",
       "      <td>70.00</td>\n",
       "    </tr>\n",
       "    <tr>\n",
       "      <th>14</th>\n",
       "      <td>2018</td>\n",
       "      <td>SAT0010</td>\n",
       "      <td>18.99</td>\n",
       "      <td>Satechi Aluminum Silver Mouse</td>\n",
       "      <td>Aluminum mat with ultra soft non-slip surface ...</td>\n",
       "      <td>29.99</td>\n",
       "    </tr>\n",
       "    <tr>\n",
       "      <th>15</th>\n",
       "      <td>2018</td>\n",
       "      <td>STA0011</td>\n",
       "      <td>3.99</td>\n",
       "      <td>Startech USB Cable black 18m extension</td>\n",
       "      <td>18 meters extension USB cable.</td>\n",
       "      <td>4.79</td>\n",
       "    </tr>\n",
       "  </tbody>\n",
       "</table>\n",
       "</div>"
      ],
      "text/plain": [
       "    year      sku  unit_price  \\\n",
       "0   2017  PAC1240    21966.00   \n",
       "1   2017  LGE0044    20341.65   \n",
       "2   2017  APP1810    17399.89   \n",
       "3   2017  APP1940    12564.93   \n",
       "4   2017  PAC1035    12043.96   \n",
       "5   2017  APP1818    11939.96   \n",
       "6   2017  APP1876    11644.97   \n",
       "7   2017  WAC0090    10183.36   \n",
       "8   2017  LGE0047     8819.93   \n",
       "9   2017  PAC0963     8366.97   \n",
       "10  2018  PAC0929     2565.99   \n",
       "11  2018  WDT0312      819.99   \n",
       "12  2018  SYN0139      166.24   \n",
       "13  2018  APP1190       56.00   \n",
       "14  2018  SAT0010       18.99   \n",
       "15  2018  STA0011        3.99   \n",
       "\n",
       "                                                 name  \\\n",
       "0   Apple MacBook Pro 133 \"i5 25GHz | RAM 16GB | 5...   \n",
       "1        LG 27UD88-W Monitor 27 \"UHD 4K USB 3.0 USB-C   \n",
       "2   Apple MacBook Pro 13 \"Core i5 2GHz | 8GB RAM |...   \n",
       "3   Apple MacBook Pro Retina 13 \"i5 27 Ghz | RAM 1...   \n",
       "4   Apple iMac 27 \"Core i7 Retina 5K 4GHz | 32GB |...   \n",
       "5   Apple MacBook Pro 15 \"Core i7 Touch Bar 27GHz ...   \n",
       "6   Apple MacBook Pro 15 \"Core i7 Touch Bar 29GHz ...   \n",
       "7            Wacom Cintiq 13HD Graphic Tablet 13 \"LED   \n",
       "8        LG 38UC99-W Monitor 38 \"UHD 4K USB 3.0 USB-C   \n",
       "9   Apple iMac 27 \"Core i7 Retina 5K 4GHz | 32GB |...   \n",
       "10  Apple iMac 27 \"Core i5 3.2GHz Retina 5K | 32GB...   \n",
       "11     Western Digital My Book Pro 12TB Thunderbolt 2   \n",
       "12              Synology DS216j NAS Server Mac and PC   \n",
       "13                   IPhone AppleCare Protection Plan   \n",
       "14                      Satechi Aluminum Silver Mouse   \n",
       "15             Startech USB Cable black 18m extension   \n",
       "\n",
       "                                                 desc   price  \n",
       "0   Apple MacBook Pro 133 inches (MD101Y / A) with... 1899.00  \n",
       "1   99% Professional Monitor sRGB color calibrator...  599.00  \n",
       "2   MacBook Pro 13 inch i5 2GHz with 8GB RAM and 2... 1699.00  \n",
       "3   MacBook Pro 13-inch Retina display 27 Ghz i5 |... 1924.00  \n",
       "4   IMac desktop computer 27 inch 5K Retina 4GHz i... 3649.00  \n",
       "5   New MacBook Pro 15-inch Touch Bar to 27GHz Cor... 3199.00  \n",
       "6   New MacBook Pro 15-inch Core i7 Touch Bar 29Gh... 4039.00  \n",
       "7   Graphics Tablet 13-inch LED HD display with 20...  899.99  \n",
       "8   Monitor curved 38 inch IPS 4K ultra high defin... 1299.00  \n",
       "9   IMac desktop computer 27 inch 5K Retina 4GHz i... 3409.00  \n",
       "10  IMac desktop computer 27 inch Retina 5K RAM 32... 3209.00  \n",
       "11  12TB external hard drive and dual Thunderbolt ...  939.99  \n",
       "12  NAS server 2 bays and 2 USB 3.0 high-speed por...  175.99  \n",
       "13               Apple Care extended warranty iPhone.   70.00  \n",
       "14  Aluminum mat with ultra soft non-slip surface ...   29.99  \n",
       "15                     18 meters extension USB cable.    4.79  "
      ]
     },
     "execution_count": 17,
     "metadata": {},
     "output_type": "execute_result"
    }
   ],
   "source": [
    "p_sku_jan = p_sku_jan.merge(products, how='left')\n",
    "p_sku_jan"
   ]
  },
  {
   "cell_type": "code",
   "execution_count": 18,
   "id": "639e076f",
   "metadata": {},
   "outputs": [
    {
     "data": {
      "image/png": "[encoded data removed]",
      "text/plain": [
       "<Figure size 432x288 with 1 Axes>"
      ]
     },
     "metadata": {
      "needs_background": "light"
     },
     "output_type": "display_data"
    },
    {
     "data": {
      "image/png": "[encoded data removed]",
      "text/plain": [
       "<Figure size 432x288 with 1 Axes>"
      ]
     },
     "metadata": {
      "needs_background": "light"
     },
     "output_type": "display_data"
    }
   ],
   "source": [
    "for year in ['2017', '2018']:\n",
    "    temp = p_sku_jan.loc[p_sku_jan['year'] == year]\n",
    "    sns.barplot(data=temp, x='unit_price', y='name', color='dodgerblue')\n",
    "    plt.title('Top 10 products for Jan ' + year)\n",
    "    plt.xlabel('Total income')\n",
    "    plt.show()"
   ]
  },
  {
   "cell_type": "markdown",
   "id": "ac8342cf",
   "metadata": {},
   "source": [
    "The [product mix](https://en.wikipedia.org/wiki/Marketing_mix) of the company has changed across the two years. Also the revenue!"
   ]
  },
  {
   "cell_type": "markdown",
   "id": "a1f2029b",
   "metadata": {},
   "source": [
    "Let's do a step back and see if I can find more information about the evolution of mean and median order value across the months:"
   ]
  },
  {
   "cell_type": "code",
   "execution_count": 19,
   "id": "e9d7b2c0",
   "metadata": {},
   "outputs": [],
   "source": [
    "p_df = (\n",
    "orders_compl\n",
    "    .assign(\n",
    "        # we can create periods of time, in that case year and month periods. \n",
    "        # I recommend you look more in deep and the documentaion of `to_period`\n",
    "        year_month = orders_compl['created_date'].dt.to_period(freq='M')\n",
    "    )\n",
    "    # group by year and month period to find the mean and median value\n",
    "    .groupby('year_month')\n",
    "    .agg({'total_paid':['mean','median']})\n",
    "    .reset_index()\n",
    "    \n",
    ")"
   ]
  },
  {
   "cell_type": "code",
   "execution_count": 20,
   "id": "b2a5232e",
   "metadata": {},
   "outputs": [],
   "source": [
    "# rename columns to make it easier to call them on the plot\n",
    "p_df.columns = ['year_month','mean','median']"
   ]
  },
  {
   "cell_type": "code",
   "execution_count": 21,
   "id": "6dbdac2d",
   "metadata": {},
   "outputs": [
    {
     "data": {
      "image/png": "[encoded data removed]",
      "text/plain": [
       "<Figure size 864x720 with 1 Axes>"
      ]
     },
     "metadata": {
      "needs_background": "light"
     },
     "output_type": "display_data"
    }
   ],
   "source": [
    "plt.subplots(figsize=(12, 10))\n",
    "\n",
    "# seaborn and matplotlib works with layers, so you can put one on top of each other.\n",
    "# using a for look will help us to print as many plots as we want on top of each other\n",
    "for measure in ['mean','median']: \n",
    "    # plot_date help us to plot datetime plots, as it can understand datetime formats like periods\n",
    "    plt.plot_date(data=p_df, x='year_month', y=measure, linestyle='--')\n",
    "\n",
    "plt.title('Order value Comparison between the mean (blue) and median (orange)')\n",
    "plt.xlabel('')\n",
    "plt.ylabel('Total paid in Euros')\n",
    "plt.ticklabel_format(style='plain', axis='y')\n",
    "plt.ylim(0, p_df['mean'].max() * 1.1)\n",
    "sns.despine()\n",
    "plt.show()"
   ]
  },
  {
   "cell_type": "markdown",
   "id": "3f46100d",
   "metadata": {},
   "source": [
    "Which are the main conclusions we can extract from this graph? Which is the difference between using the mean and the median?"
   ]
  },
  {
   "cell_type": "markdown",
   "id": "2e68e490",
   "metadata": {},
   "source": [
    "## Looking for a correlation between shipping cost, total price and quantity of products by each order "
   ]
  },
  {
   "cell_type": "markdown",
   "id": "f1054682",
   "metadata": {},
   "source": [
    "Is there a correlation between the number of products acquired and the shipping cost? "
   ]
  },
  {
   "cell_type": "code",
   "execution_count": 33,
   "id": "52277eb9",
   "metadata": {},
   "outputs": [],
   "source": [
    "p_df = (\n",
    "orderlines\n",
    "    .groupby(['id_order'])\n",
    "    .agg({'total_price':'sum', \n",
    "         'product_quantity':'sum'})\n",
    "    .reset_index()\n",
    "    .merge(orders, how='left', left_on='id_order', right_on='order_id')\n",
    "    .query('state == \"Completed\"')\n",
    "    # lambda function inside assign help us to call a variable create on the pandas pipeline\n",
    "    # further explanation below\n",
    "    .assign(ship_cost = lambda x: x['total_paid'] - x['total_price'])\n",
    "    # exclude orders with no shippping cost\n",
    "    .query('ship_cost != 0')\n",
    "    .groupby('id_order')\n",
    "    .agg({'ship_cost':'sum',\n",
    "         'total_price':'sum', \n",
    "         'product_quantity':'sum'})\n",
    "    .sort_values('product_quantity')\n",
    ")"
   ]
  },
  {
   "cell_type": "code",
   "execution_count": 23,
   "id": "808e2856",
   "metadata": {},
   "outputs": [
    {
     "name": "stdout",
     "output_type": "stream",
     "text": [
      "Exemple 1:\n",
      "   x  y  x_y  x__x_y\n",
      "0  1  2    3       4\n",
      "1  2  3    5       7\n",
      "2  3  4    7      10\n",
      "\n",
      "Exemple 2:\n",
      "   x  y  x_y  x__x_y\n",
      "0  1  2    3       4\n",
      "1  2  3    5       7\n",
      "2  3  4    7      10\n"
     ]
    }
   ],
   "source": [
    "# Example how to understand a lambda function inside assign\n",
    "\n",
    "# create a dummy dataframe\n",
    "temp = pd.DataFrame({\n",
    "    'x':[1,2,3],\n",
    "    'y':[2,3,4]\n",
    "})\n",
    "\n",
    "# example how it is applied\n",
    "print('Exemple 1:')\n",
    "print(\n",
    "temp\n",
    "    .assign(x_y = temp['x'] + temp['y'])\n",
    "    # the only way to call the variable x_y in the same data pipeline is to use \n",
    "    # a lambda function, as the variable x_y do not exist on the original dataframe\n",
    "    .assign(x__x_y = lambda x: x['x'] + x['x_y'])\n",
    ")\n",
    "\n",
    "# this process will be exaclty as doing\n",
    "print('\\nExemple 2:')\n",
    "temp = temp.assign(x_y = temp['x'] + temp['y'])\n",
    "# in this example I can call the variable as temp['x_y'] as I overwrited the object temp in the line above\n",
    "print(temp.assign(x__x_y = temp['x'] + temp['x_y']))"
   ]
  },
  {
   "cell_type": "code",
   "execution_count": 24,
   "id": "0f9b5c74",
   "metadata": {},
   "outputs": [
    {
     "data": {
      "image/png": "[encoded data removed]",
      "text/plain": [
       "<Figure size 720x576 with 1 Axes>"
      ]
     },
     "metadata": {
      "needs_background": "light"
     },
     "output_type": "display_data"
    }
   ],
   "source": [
    "plt.subplots(figsize=(10, 8))\n",
    "\n",
    "sns.scatterplot(data=p_df, x='ship_cost', y='total_price', \n",
    "                hue='product_quantity', \n",
    "                size='product_quantity', # define the size of each point based on the variable product quantity\n",
    "                sizes=(20, 200), # range of size of the size variable\n",
    "                palette='ch:start=.2,rot=-.3') # define manually the range of colors\n",
    "\n",
    "plt.xlabel('Shipping cost in Euros')\n",
    "plt.ylabel('Total price in Euros')\n",
    "plt.title('Relation between shipping cost, total price and quantity of products by order id')\n",
    "plt.legend(title = 'Product quantity') # Change the title name of the legend\n",
    "plt.xlim(-7, 100)\n",
    "sns.despine()\n",
    "plt.show()"
   ]
  },
  {
   "cell_type": "markdown",
   "id": "71e620e5",
   "metadata": {},
   "source": [
    "## CHALLENGE"
   ]
  },
  {
   "cell_type": "markdown",
   "id": "e7d632df",
   "metadata": {},
   "source": [
    "Answer the following questions with the chart you consider better: \n",
    "\n",
    "1. Only a fraction of the total number of orders end up being completed. Let's call this fraction (Completed orders / Total number of orders) 'Orders Conversion Rate'. Can you plot the weekly evolution of the 'Orders Conversion Rate'? Find the best chart to represent it. \n",
    "\n",
    "HINT: Trends throughout time are best represented by lines. Search how to do line plots with Seaborn."
   ]
  },
  {
   "cell_type": "code",
   "execution_count": null,
   "id": "5bed9b31-5335-4028-904c-b9483ce86d69",
   "metadata": {},
   "outputs": [],
   "source": []
  },
  {
   "cell_type": "markdown",
   "id": "a8429fa6",
   "metadata": {},
   "source": [
    "If you combine the unit prices from the products dataframe with the unit price in orderlines, you can find if a discount has been applied into a product and how much is the difference. Find out which are the best visualisation to: \n",
    "\n",
    "1. Show the evolution of the average discount (in %) by each month"
   ]
  },
  {
   "cell_type": "code",
   "execution_count": null,
   "id": "0c580482-4dfa-4422-9619-7a97302d367f",
   "metadata": {},
   "outputs": [],
   "source": []
  },
  {
   "cell_type": "markdown",
   "id": "aa026aa2",
   "metadata": {},
   "source": [
    "2. Show the top 30 products with the highest discounts in absolute values, on average.  "
   ]
  },
  {
   "cell_type": "code",
   "execution_count": null,
   "id": "5b12a5ef-3e00-4faf-afd4-542a3c309ea6",
   "metadata": {},
   "outputs": [],
   "source": []
  },
  {
   "cell_type": "markdown",
   "id": "fc752402",
   "metadata": {},
   "source": [
    "3. Show the distributions of discounts for each brand. Choose the discount measure you consider better to compare all brands. HINT: you can use the first 3 characters of the sku name to merge it with the brands table."
   ]
  },
  {
   "cell_type": "code",
   "execution_count": null,
   "id": "8e3a7652-3359-41a6-9aee-fef5a734a4ba",
   "metadata": {},
   "outputs": [],
   "source": []
  }
 ],
 "metadata": {
  "kernelspec": {
   "display_name": "Python 3",
   "language": "python",
   "name": "python3"
  },
  "language_info": {
   "codemirror_mode": {
    "name": "ipython",
    "version": 3
   },
   "file_extension": ".py",
   "mimetype": "text/x-python",
   "name": "python",
   "nbconvert_exporter": "python",
   "pygments_lexer": "ipython3",
   "version": "3.8.8"
  }
 },
 "nbformat": 4,
 "nbformat_minor": 5
}
