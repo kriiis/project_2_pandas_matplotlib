{
 "cells": [
  {
   "cell_type": "markdown",
   "id": "aa1ee9b9-f945-4b0a-9ada-8900c1a7b172",
   "metadata": {},
   "source": [
    "# Pandas Data Cleaning Pipeline for Eniac's raw data\n",
    "\n",
    "## Import Libraries, Read Data and Basic functions for all files/dataframes\n",
    "- start_pipeline: start the pipeline and make a copy of the dataframe\n"
   ]
  },
  {
   "cell_type": "code",
   "execution_count": 188,
   "id": "42a3016e-0af2-467e-bc46-80751234df6a",
   "metadata": {},
   "outputs": [],
   "source": [
    "import pandas as pd\n",
    "\n",
    "path = 'raw_data/'\n",
    "orderlines = pd.read_csv(path + 'orderlines.csv')\n",
    "orders = pd.read_csv(path + 'orders.csv')\n",
    "products = pd.read_csv(path + 'products.csv')\n",
    "brands = pd.read_csv(path + 'brands.csv')\n",
    "\n",
    "def start_pipeline(data): \n",
    "    return data.copy()\n",
    "\n",
    "def drop_column(data, column_name):\n",
    "    return data.drop(column_name, axis = 1)"
   ]
  },
  {
   "cell_type": "markdown",
   "id": "efbde002-b86c-4a41-9f7c-3a64d4515867",
   "metadata": {},
   "source": [
    "## Functions for orders\n",
    "- set_types_orders: set dtypes for the orders dataframe - change create_date to type datetime\n",
    "- common_orders: check order_id/id_orders in orders and orderlines and write orders that are in both dataframes into a list\n",
    "- select_common_orders: use the list of common_orders to filter the orders dataframe and return a new dataframe and some info on filtered rows"
   ]
  },
  {
   "cell_type": "code",
   "execution_count": 124,
   "id": "a9b5bb01-29f4-47a3-8181-403c62e36a9b",
   "metadata": {},
   "outputs": [],
   "source": [
    "def set_types_orders(data): \n",
    "    return data.assign(created_date = pd.to_datetime(data['created_date']))\n",
    "\n",
    "def common_orders(orders, orderlines): \n",
    "    return (orders\n",
    "            .assign(order_check = orders['order_id'].isin(orderlines['id_order']))\n",
    "            .query('order_check == True')\n",
    "            ['order_id'].tolist())\n",
    "\n",
    "def select_common_orders(data, orders_list: list): \n",
    "    if 'order_id' in data.columns: \n",
    "        data.rename(columns={'order_id':'id_order'}, inplace=True)\n",
    "    data_filtered = data.query('id_order == @orders_list')\n",
    "    print(\n",
    "        f\"\"\"\n",
    "        Total {data_filtered.shape[0]} rows included over the original {data.shape[0]} rows.\\n\n",
    "        Kept the {round((data_filtered.shape[0] / data.shape[0])*100, 2)}% of the data.\n",
    "        \"\"\")\n",
    "    return data_filtered    "
   ]
  },
  {
   "cell_type": "code",
   "execution_count": 125,
   "id": "ea36cda7-f63f-4dcf-9f49-c4305ea868a9",
   "metadata": {},
   "outputs": [
    {
     "name": "stdout",
     "output_type": "stream",
     "text": [
      "\n",
      "        Total 204691 rows included over the original 226904 rows.\n",
      "\n",
      "        Kept the 90.21% of the data.\n",
      "        \n"
     ]
    }
   ],
   "source": [
    "orders_filtered = (\n",
    "orders\n",
    "    .pipe(start_pipeline)\n",
    "    .pipe(set_types_orders)\n",
    "    .dropna()\n",
    "    .pipe(select_common_orders, orders_list=common_orders(orders, orderlines))\n",
    ")"
   ]
  },
  {
   "cell_type": "code",
   "execution_count": 126,
   "id": "1d26e396-597f-4e68-a6d2-e59ccac0600b",
   "metadata": {},
   "outputs": [
    {
     "data": {
      "text/html": [
       "<div>\n",
       "<style scoped>\n",
       "    .dataframe tbody tr th:only-of-type {\n",
       "        vertical-align: middle;\n",
       "    }\n",
       "\n",
       "    .dataframe tbody tr th {\n",
       "        vertical-align: top;\n",
       "    }\n",
       "\n",
       "    .dataframe thead th {\n",
       "        text-align: right;\n",
       "    }\n",
       "</style>\n",
       "<table border=\"1\" class=\"dataframe\">\n",
       "  <thead>\n",
       "    <tr style=\"text-align: right;\">\n",
       "      <th></th>\n",
       "      <th>id_order</th>\n",
       "      <th>created_date</th>\n",
       "      <th>total_paid</th>\n",
       "      <th>state</th>\n",
       "    </tr>\n",
       "  </thead>\n",
       "  <tbody>\n",
       "    <tr>\n",
       "      <th>0</th>\n",
       "      <td>241319</td>\n",
       "      <td>2017-01-02 13:35:40</td>\n",
       "      <td>44.99</td>\n",
       "      <td>Cancelled</td>\n",
       "    </tr>\n",
       "    <tr>\n",
       "      <th>1</th>\n",
       "      <td>241423</td>\n",
       "      <td>2017-11-06 13:10:02</td>\n",
       "      <td>136.15</td>\n",
       "      <td>Completed</td>\n",
       "    </tr>\n",
       "    <tr>\n",
       "      <th>2</th>\n",
       "      <td>242832</td>\n",
       "      <td>2017-12-31 17:40:03</td>\n",
       "      <td>15.76</td>\n",
       "      <td>Completed</td>\n",
       "    </tr>\n",
       "    <tr>\n",
       "      <th>3</th>\n",
       "      <td>243330</td>\n",
       "      <td>2017-02-16 10:59:38</td>\n",
       "      <td>84.98</td>\n",
       "      <td>Completed</td>\n",
       "    </tr>\n",
       "    <tr>\n",
       "      <th>4</th>\n",
       "      <td>243784</td>\n",
       "      <td>2017-11-24 13:35:19</td>\n",
       "      <td>157.86</td>\n",
       "      <td>Cancelled</td>\n",
       "    </tr>\n",
       "    <tr>\n",
       "      <th>...</th>\n",
       "      <td>...</td>\n",
       "      <td>...</td>\n",
       "      <td>...</td>\n",
       "      <td>...</td>\n",
       "    </tr>\n",
       "    <tr>\n",
       "      <th>226904</th>\n",
       "      <td>527397</td>\n",
       "      <td>2018-03-14 13:56:38</td>\n",
       "      <td>42.99</td>\n",
       "      <td>Place Order</td>\n",
       "    </tr>\n",
       "    <tr>\n",
       "      <th>226905</th>\n",
       "      <td>527398</td>\n",
       "      <td>2018-03-14 13:57:25</td>\n",
       "      <td>42.99</td>\n",
       "      <td>Shopping Basket</td>\n",
       "    </tr>\n",
       "    <tr>\n",
       "      <th>226906</th>\n",
       "      <td>527399</td>\n",
       "      <td>2018-03-14 13:57:34</td>\n",
       "      <td>141.58</td>\n",
       "      <td>Shopping Basket</td>\n",
       "    </tr>\n",
       "    <tr>\n",
       "      <th>226907</th>\n",
       "      <td>527400</td>\n",
       "      <td>2018-03-14 13:57:41</td>\n",
       "      <td>19.98</td>\n",
       "      <td>Shopping Basket</td>\n",
       "    </tr>\n",
       "    <tr>\n",
       "      <th>226908</th>\n",
       "      <td>527401</td>\n",
       "      <td>2018-03-14 13:58:36</td>\n",
       "      <td>18.98</td>\n",
       "      <td>Place Order</td>\n",
       "    </tr>\n",
       "  </tbody>\n",
       "</table>\n",
       "<p>204691 rows × 4 columns</p>\n",
       "</div>"
      ],
      "text/plain": [
       "        id_order        created_date  total_paid            state\n",
       "0         241319 2017-01-02 13:35:40       44.99        Cancelled\n",
       "1         241423 2017-11-06 13:10:02      136.15        Completed\n",
       "2         242832 2017-12-31 17:40:03       15.76        Completed\n",
       "3         243330 2017-02-16 10:59:38       84.98        Completed\n",
       "4         243784 2017-11-24 13:35:19      157.86        Cancelled\n",
       "...          ...                 ...         ...              ...\n",
       "226904    527397 2018-03-14 13:56:38       42.99      Place Order\n",
       "226905    527398 2018-03-14 13:57:25       42.99  Shopping Basket\n",
       "226906    527399 2018-03-14 13:57:34      141.58  Shopping Basket\n",
       "226907    527400 2018-03-14 13:57:41       19.98  Shopping Basket\n",
       "226908    527401 2018-03-14 13:58:36       18.98      Place Order\n",
       "\n",
       "[204691 rows x 4 columns]"
      ]
     },
     "execution_count": 126,
     "metadata": {},
     "output_type": "execute_result"
    }
   ],
   "source": [
    "orders_filtered"
   ]
  },
  {
   "cell_type": "markdown",
   "id": "1fa066ce-b2d2-46ca-8b75-72ebd55b4065",
   "metadata": {},
   "source": [
    "## Functions for orderlines\n",
    "- set_types_orderlines: set dtpe datetime for column date\n",
    "- clean_unit_price: cleans the column unit_price from . as thousand separetor and changes dytpe to float (numeric)\n"
   ]
  },
  {
   "cell_type": "code",
   "execution_count": 98,
   "id": "fbbc2b2e-774c-4cd7-b962-6ced1669edca",
   "metadata": {},
   "outputs": [],
   "source": [
    "def set_types_orderlines(data):\n",
    "    return data.assign(date = pd.to_datetime(data['date']))\n",
    "\n",
    "def clean_unit_price(data):\n",
    "    data[['price_num', 'price_dec']] = data.unit_price.str.rsplit('.', n=1, expand = True)\n",
    "    data['price_num_nd'] = data['price_num'].str.replace('.', '', regex=True)\n",
    "    data['unit_price_new'] = data['price_num_nd'] + '.' + data['price_dec']\n",
    "    data['unit_price'] = pd.to_numeric(data['unit_price_new'])\n",
    "    data.drop(['price_num', 'price_dec', 'unit_price_new', 'price_num_nd'], axis = 1, inplace = True)\n",
    "    return data\n",
    "                "
   ]
  },
  {
   "cell_type": "code",
   "execution_count": 99,
   "id": "e1298be6-591c-4556-9b58-92fca9c00b0f",
   "metadata": {},
   "outputs": [],
   "source": [
    "orderlines_filtered = (\n",
    "orderlines\n",
    "    .pipe(start_pipeline)\n",
    "    .pipe(set_types_orderlines)\n",
    "    .pipe(clean_unit_price)\n",
    "    .pipe(drop_column, ['product_id'])\n",
    ")"
   ]
  },
  {
   "cell_type": "code",
   "execution_count": 100,
   "id": "3b400acd-4490-4067-b565-926666a8e74c",
   "metadata": {},
   "outputs": [
    {
     "data": {
      "text/html": [
       "<div>\n",
       "<style scoped>\n",
       "    .dataframe tbody tr th:only-of-type {\n",
       "        vertical-align: middle;\n",
       "    }\n",
       "\n",
       "    .dataframe tbody tr th {\n",
       "        vertical-align: top;\n",
       "    }\n",
       "\n",
       "    .dataframe thead th {\n",
       "        text-align: right;\n",
       "    }\n",
       "</style>\n",
       "<table border=\"1\" class=\"dataframe\">\n",
       "  <thead>\n",
       "    <tr style=\"text-align: right;\">\n",
       "      <th></th>\n",
       "      <th>id</th>\n",
       "      <th>id_order</th>\n",
       "      <th>product_quantity</th>\n",
       "      <th>sku</th>\n",
       "      <th>unit_price</th>\n",
       "      <th>date</th>\n",
       "    </tr>\n",
       "  </thead>\n",
       "  <tbody>\n",
       "    <tr>\n",
       "      <th>0</th>\n",
       "      <td>1119109</td>\n",
       "      <td>299539</td>\n",
       "      <td>1</td>\n",
       "      <td>OTT0133</td>\n",
       "      <td>18.99</td>\n",
       "      <td>2017-01-01 00:07:19</td>\n",
       "    </tr>\n",
       "    <tr>\n",
       "      <th>1</th>\n",
       "      <td>1119110</td>\n",
       "      <td>299540</td>\n",
       "      <td>1</td>\n",
       "      <td>LGE0043</td>\n",
       "      <td>399.00</td>\n",
       "      <td>2017-01-01 00:19:45</td>\n",
       "    </tr>\n",
       "    <tr>\n",
       "      <th>2</th>\n",
       "      <td>1119111</td>\n",
       "      <td>299541</td>\n",
       "      <td>1</td>\n",
       "      <td>PAR0071</td>\n",
       "      <td>474.05</td>\n",
       "      <td>2017-01-01 00:20:57</td>\n",
       "    </tr>\n",
       "    <tr>\n",
       "      <th>3</th>\n",
       "      <td>1119112</td>\n",
       "      <td>299542</td>\n",
       "      <td>1</td>\n",
       "      <td>WDT0315</td>\n",
       "      <td>68.39</td>\n",
       "      <td>2017-01-01 00:51:40</td>\n",
       "    </tr>\n",
       "    <tr>\n",
       "      <th>4</th>\n",
       "      <td>1119113</td>\n",
       "      <td>299543</td>\n",
       "      <td>1</td>\n",
       "      <td>JBL0104</td>\n",
       "      <td>23.74</td>\n",
       "      <td>2017-01-01 01:06:38</td>\n",
       "    </tr>\n",
       "  </tbody>\n",
       "</table>\n",
       "</div>"
      ],
      "text/plain": [
       "        id  id_order  product_quantity      sku  unit_price  \\\n",
       "0  1119109    299539                 1  OTT0133       18.99   \n",
       "1  1119110    299540                 1  LGE0043      399.00   \n",
       "2  1119111    299541                 1  PAR0071      474.05   \n",
       "3  1119112    299542                 1  WDT0315       68.39   \n",
       "4  1119113    299543                 1  JBL0104       23.74   \n",
       "\n",
       "                 date  \n",
       "0 2017-01-01 00:07:19  \n",
       "1 2017-01-01 00:19:45  \n",
       "2 2017-01-01 00:20:57  \n",
       "3 2017-01-01 00:51:40  \n",
       "4 2017-01-01 01:06:38  "
      ]
     },
     "execution_count": 100,
     "metadata": {},
     "output_type": "execute_result"
    }
   ],
   "source": [
    "orderlines_filtered.head()"
   ]
  },
  {
   "cell_type": "markdown",
   "id": "504feae8-0698-4468-b74e-cd22506c9bbb",
   "metadata": {},
   "source": [
    "## Remove Outliers from Orders and Orderlines based on price differences\n",
    "\n",
    "- Uses filtered dataframes orderlines_filtered and orders_filtered so process those pipelines first\n",
    "\n",
    "- Function filter_outliers: filter the orders with a price difference in total_price and total_paid that are not plausible and returns a list of orded ids that can then be removed from both orders and orderlines in the next step\n",
    "    - Price difference are likely to come from shipping costs\n",
    "    - Shipping costs e.g. in Spain for individuals with GLS are at most 105€ to the Balearics\n",
    "    - Some of the worst outliers are in state \"Shopping Basket\" and not relevant as we are only interested in the \"Completed\" orders\n",
    "    - Price differences between 0 and 105€ are plausible and would contain 98,7% of the completed orders\n",
    "    - Therefore this range in price_differences is taken to remove outliers\n",
    "    \n",
    "- remove_outliers: filter dataframe based on ids in list and only keep those rows"
   ]
  },
  {
   "cell_type": "code",
   "execution_count": 170,
   "id": "aa61898f-9e8b-4bd4-af16-8cf08073f8da",
   "metadata": {
    "tags": []
   },
   "outputs": [],
   "source": [
    "#def filter_outliers(data_o, data_ol, diff_min=0, diff_max=105):\n",
    "def filter_outliers(data_o, data_ol):\n",
    "    data_ol['total_price'] = data_ol['unit_price'] * data_ol['product_quantity']\n",
    "    price_info = (\n",
    "    data_ol\n",
    "        .groupby('id_order')\n",
    "        .agg({'total_price':'sum'})\n",
    "        .merge(data_o, how='inner', on='id_order')\n",
    "        .copy()\n",
    "    )\n",
    "    price_info= (\n",
    "    price_info\n",
    "        .assign(price_difference = round(price_info['total_paid'] - price_info['total_price'], 2)) \n",
    "    )\n",
    "    ids = (\n",
    "    price_info\n",
    "        .query('price_difference >= 0 & price_difference <= 105')\n",
    "        ['id_order'].tolist()\n",
    "    )\n",
    "    return ids\n",
    "\n",
    "def remove_outliers(data, id_list):\n",
    "    return data.query('id_order == @id_list')"
   ]
  },
  {
   "cell_type": "code",
   "execution_count": 171,
   "id": "98f4aec7-114f-4388-a8de-75614693b9d9",
   "metadata": {
    "tags": []
   },
   "outputs": [],
   "source": [
    "orders_clean = (\n",
    "orders_filtered\n",
    "    .pipe(start_pipeline)\n",
    "    #.pipe(filter_outliers, orderlines_filtered)\n",
    "    .pipe(remove_outliers, id_list = filter_outliers(orders_filtered, orderlines_filtered))\n",
    ")"
   ]
  },
  {
   "cell_type": "code",
   "execution_count": 172,
   "id": "d2702296-1b06-4559-b56d-f84afc1d344a",
   "metadata": {},
   "outputs": [],
   "source": [
    "orderlines_clean = (\n",
    "orderlines_filtered\n",
    "    .pipe(start_pipeline)\n",
    "    #.pipe(filter_outliers, orderlines_filtered)\n",
    "    .pipe(remove_outliers, id_list = filter_outliers(orders_filtered, orderlines_filtered))\n",
    ")"
   ]
  },
  {
   "cell_type": "markdown",
   "id": "53772746-2d87-4842-afbe-d9a099716d48",
   "metadata": {},
   "source": [
    "Following cells are just to check if outliers were removed"
   ]
  },
  {
   "cell_type": "code",
   "execution_count": 173,
   "id": "b70f024f-7d29-4413-951a-8e7ee99a6c23",
   "metadata": {},
   "outputs": [
    {
     "data": {
      "text/html": [
       "<div>\n",
       "<style scoped>\n",
       "    .dataframe tbody tr th:only-of-type {\n",
       "        vertical-align: middle;\n",
       "    }\n",
       "\n",
       "    .dataframe tbody tr th {\n",
       "        vertical-align: top;\n",
       "    }\n",
       "\n",
       "    .dataframe thead th {\n",
       "        text-align: right;\n",
       "    }\n",
       "</style>\n",
       "<table border=\"1\" class=\"dataframe\">\n",
       "  <thead>\n",
       "    <tr style=\"text-align: right;\">\n",
       "      <th></th>\n",
       "      <th>id_order</th>\n",
       "      <th>created_date</th>\n",
       "      <th>total_paid</th>\n",
       "      <th>state</th>\n",
       "    </tr>\n",
       "  </thead>\n",
       "  <tbody>\n",
       "    <tr>\n",
       "      <th>0</th>\n",
       "      <td>241319</td>\n",
       "      <td>2017-01-02 13:35:40</td>\n",
       "      <td>44.99</td>\n",
       "      <td>Cancelled</td>\n",
       "    </tr>\n",
       "    <tr>\n",
       "      <th>1</th>\n",
       "      <td>241423</td>\n",
       "      <td>2017-11-06 13:10:02</td>\n",
       "      <td>136.15</td>\n",
       "      <td>Completed</td>\n",
       "    </tr>\n",
       "    <tr>\n",
       "      <th>2</th>\n",
       "      <td>242832</td>\n",
       "      <td>2017-12-31 17:40:03</td>\n",
       "      <td>15.76</td>\n",
       "      <td>Completed</td>\n",
       "    </tr>\n",
       "    <tr>\n",
       "      <th>3</th>\n",
       "      <td>243330</td>\n",
       "      <td>2017-02-16 10:59:38</td>\n",
       "      <td>84.98</td>\n",
       "      <td>Completed</td>\n",
       "    </tr>\n",
       "    <tr>\n",
       "      <th>4</th>\n",
       "      <td>243784</td>\n",
       "      <td>2017-11-24 13:35:19</td>\n",
       "      <td>157.86</td>\n",
       "      <td>Cancelled</td>\n",
       "    </tr>\n",
       "  </tbody>\n",
       "</table>\n",
       "</div>"
      ],
      "text/plain": [
       "   id_order        created_date  total_paid      state\n",
       "0    241319 2017-01-02 13:35:40       44.99  Cancelled\n",
       "1    241423 2017-11-06 13:10:02      136.15  Completed\n",
       "2    242832 2017-12-31 17:40:03       15.76  Completed\n",
       "3    243330 2017-02-16 10:59:38       84.98  Completed\n",
       "4    243784 2017-11-24 13:35:19      157.86  Cancelled"
      ]
     },
     "execution_count": 173,
     "metadata": {},
     "output_type": "execute_result"
    }
   ],
   "source": [
    "orders_clean.head()"
   ]
  },
  {
   "cell_type": "code",
   "execution_count": 174,
   "id": "b770eb6c-ec69-4aea-a448-20dc04f0de38",
   "metadata": {},
   "outputs": [
    {
     "data": {
      "text/html": [
       "<div>\n",
       "<style scoped>\n",
       "    .dataframe tbody tr th:only-of-type {\n",
       "        vertical-align: middle;\n",
       "    }\n",
       "\n",
       "    .dataframe tbody tr th {\n",
       "        vertical-align: top;\n",
       "    }\n",
       "\n",
       "    .dataframe thead th {\n",
       "        text-align: right;\n",
       "    }\n",
       "</style>\n",
       "<table border=\"1\" class=\"dataframe\">\n",
       "  <thead>\n",
       "    <tr style=\"text-align: right;\">\n",
       "      <th></th>\n",
       "      <th>id</th>\n",
       "      <th>id_order</th>\n",
       "      <th>product_quantity</th>\n",
       "      <th>sku</th>\n",
       "      <th>unit_price</th>\n",
       "      <th>date</th>\n",
       "      <th>total_price</th>\n",
       "    </tr>\n",
       "  </thead>\n",
       "  <tbody>\n",
       "    <tr>\n",
       "      <th>0</th>\n",
       "      <td>1119109</td>\n",
       "      <td>299539</td>\n",
       "      <td>1</td>\n",
       "      <td>OTT0133</td>\n",
       "      <td>18.99</td>\n",
       "      <td>2017-01-01 00:07:19</td>\n",
       "      <td>18.99</td>\n",
       "    </tr>\n",
       "    <tr>\n",
       "      <th>1</th>\n",
       "      <td>1119110</td>\n",
       "      <td>299540</td>\n",
       "      <td>1</td>\n",
       "      <td>LGE0043</td>\n",
       "      <td>399.00</td>\n",
       "      <td>2017-01-01 00:19:45</td>\n",
       "      <td>399.00</td>\n",
       "    </tr>\n",
       "    <tr>\n",
       "      <th>2</th>\n",
       "      <td>1119111</td>\n",
       "      <td>299541</td>\n",
       "      <td>1</td>\n",
       "      <td>PAR0071</td>\n",
       "      <td>474.05</td>\n",
       "      <td>2017-01-01 00:20:57</td>\n",
       "      <td>474.05</td>\n",
       "    </tr>\n",
       "    <tr>\n",
       "      <th>3</th>\n",
       "      <td>1119112</td>\n",
       "      <td>299542</td>\n",
       "      <td>1</td>\n",
       "      <td>WDT0315</td>\n",
       "      <td>68.39</td>\n",
       "      <td>2017-01-01 00:51:40</td>\n",
       "      <td>68.39</td>\n",
       "    </tr>\n",
       "    <tr>\n",
       "      <th>4</th>\n",
       "      <td>1119113</td>\n",
       "      <td>299543</td>\n",
       "      <td>1</td>\n",
       "      <td>JBL0104</td>\n",
       "      <td>23.74</td>\n",
       "      <td>2017-01-01 01:06:38</td>\n",
       "      <td>23.74</td>\n",
       "    </tr>\n",
       "  </tbody>\n",
       "</table>\n",
       "</div>"
      ],
      "text/plain": [
       "        id  id_order  product_quantity      sku  unit_price  \\\n",
       "0  1119109    299539                 1  OTT0133       18.99   \n",
       "1  1119110    299540                 1  LGE0043      399.00   \n",
       "2  1119111    299541                 1  PAR0071      474.05   \n",
       "3  1119112    299542                 1  WDT0315       68.39   \n",
       "4  1119113    299543                 1  JBL0104       23.74   \n",
       "\n",
       "                 date  total_price  \n",
       "0 2017-01-01 00:07:19        18.99  \n",
       "1 2017-01-01 00:19:45       399.00  \n",
       "2 2017-01-01 00:20:57       474.05  \n",
       "3 2017-01-01 00:51:40        68.39  \n",
       "4 2017-01-01 01:06:38        23.74  "
      ]
     },
     "execution_count": 174,
     "metadata": {},
     "output_type": "execute_result"
    }
   ],
   "source": [
    "orderlines_clean.head()"
   ]
  },
  {
   "cell_type": "code",
   "execution_count": 177,
   "id": "170fb990-2d65-4949-bc34-23dfbadcc67c",
   "metadata": {},
   "outputs": [
    {
     "data": {
      "text/plain": [
       "288102"
      ]
     },
     "execution_count": 177,
     "metadata": {},
     "output_type": "execute_result"
    }
   ],
   "source": [
    "orderlines_clean['id_order'].isin(filter_outliers(orders_filtered, orderlines_filtered)).sum()"
   ]
  },
  {
   "cell_type": "code",
   "execution_count": 179,
   "id": "25e6a134-b5ec-42c4-b9c9-cc190999cb2b",
   "metadata": {},
   "outputs": [
    {
     "data": {
      "text/plain": [
       "(288102, 7)"
      ]
     },
     "execution_count": 179,
     "metadata": {},
     "output_type": "execute_result"
    }
   ],
   "source": [
    "orderlines_clean.shape"
   ]
  },
  {
   "cell_type": "code",
   "execution_count": 180,
   "id": "ea3f6387-2551-4ad3-9182-91fd30ac04f4",
   "metadata": {
    "tags": []
   },
   "outputs": [
    {
     "data": {
      "text/plain": [
       "202574"
      ]
     },
     "execution_count": 180,
     "metadata": {},
     "output_type": "execute_result"
    }
   ],
   "source": [
    "orders_clean['id_order'].isin(filter_outliers(orders_filtered, orderlines_filtered)).sum()"
   ]
  },
  {
   "cell_type": "code",
   "execution_count": 181,
   "id": "5b11b21b-9393-4038-80af-cffbbe8e3319",
   "metadata": {},
   "outputs": [
    {
     "data": {
      "text/plain": [
       "(202574, 4)"
      ]
     },
     "execution_count": 181,
     "metadata": {},
     "output_type": "execute_result"
    }
   ],
   "source": [
    "orders_clean.shape"
   ]
  },
  {
   "cell_type": "markdown",
   "id": "eabad3c1-e0b0-4a76-bc6a-4708ac7566f0",
   "metadata": {},
   "source": [
    "## Functions for products\n",
    "\n",
    "- copy_desc: there are 5 missing values in the description column, as 4 of them are also \"Completed\" I want to keep them and just copied the name to the desc to fill it\n",
    "- drop the duplicates with drop_duplicates function\n",
    "- drop_column: drop columns 'in_stock' and 'type' for convenience as we don't need them and there are also missing values in the type column\n",
    "- drop missing values from price\n",
    "    - there are only 46 missing values, that is really few\n",
    "    - 43 of them are from one company - \"Celly\" (selling mainly iphone cases and covers) - there are no more products from this company (sku with CEL)\n",
    "    - so I decided to drop them because there is probably some problem with this company\n",
    "    - the other 3 nan prices are just neglectable\n",
    "    \n",
    "- clean_price: clean the price column from dots as thousand operators, calculate correct prices for some wrong prices (the ones with 3 decimals after the last dot - it seems that dividing them by 100 could fix it) and convert the column to float\n"
   ]
  },
  {
   "cell_type": "code",
   "execution_count": 210,
   "id": "5677833b-2ce2-4999-a9d6-3f42131cecfc",
   "metadata": {},
   "outputs": [],
   "source": [
    "def copy_desc(data):\n",
    "    sku_list = data.loc[data['desc'].isna()].sku.to_list()\n",
    "    for s in sku_list:\n",
    "        data['desc'] = data['name']\n",
    "    return data    \n",
    "\n",
    "def clean_price(data):\n",
    "    #first add decimals for all prices that don't have decimals\n",
    "    data['price_new'] = data.price.apply(lambda x: x + '.00' if x.count('.') == 0 else x )\n",
    "    #second rsplit decimals to be able to filter prices with 3 decimals, the others seem to be ok\n",
    "    data[['price_num', 'price_dec']]=data.price_new.str.rsplit(pat='.', n=1, expand=True)\n",
    "    #for prices with 3 decimals \n",
    "    products_prices = data.merge(orderlines_clean, on='sku', how='left')\n",
    "    products_wrong = products_prices.loc[products_prices['price_dec'].str.len()==3]\n",
    "    return products_wrong"
   ]
  },
  {
   "cell_type": "code",
   "execution_count": 211,
   "id": "8db8609f-919f-40dc-9078-636abbf2c36e",
   "metadata": {},
   "outputs": [],
   "source": [
    "products_filtered = (\n",
    "products\n",
    "    .pipe(start_pipeline)\n",
    "    .pipe(copy_desc)\n",
    "    .drop_duplicates()\n",
    "    .pipe(drop_column, ['in_stock', 'type'])\n",
    "    .dropna()\n",
    "    .pipe(clean_price)\n",
    ")"
   ]
  },
  {
   "cell_type": "code",
   "execution_count": 212,
   "id": "59c7d50a-6478-4e06-a8b7-7ab70d7db84d",
   "metadata": {},
   "outputs": [
    {
     "data": {
      "text/html": [
       "<div>\n",
       "<style scoped>\n",
       "    .dataframe tbody tr th:only-of-type {\n",
       "        vertical-align: middle;\n",
       "    }\n",
       "\n",
       "    .dataframe tbody tr th {\n",
       "        vertical-align: top;\n",
       "    }\n",
       "\n",
       "    .dataframe thead th {\n",
       "        text-align: right;\n",
       "    }\n",
       "</style>\n",
       "<table border=\"1\" class=\"dataframe\">\n",
       "  <thead>\n",
       "    <tr style=\"text-align: right;\">\n",
       "      <th></th>\n",
       "      <th>sku</th>\n",
       "      <th>name</th>\n",
       "      <th>desc</th>\n",
       "      <th>price</th>\n",
       "      <th>promo_price</th>\n",
       "      <th>price_new</th>\n",
       "      <th>price_num</th>\n",
       "      <th>price_dec</th>\n",
       "      <th>id</th>\n",
       "      <th>id_order</th>\n",
       "      <th>product_quantity</th>\n",
       "      <th>unit_price</th>\n",
       "      <th>date</th>\n",
       "      <th>total_price</th>\n",
       "    </tr>\n",
       "  </thead>\n",
       "  <tbody>\n",
       "    <tr>\n",
       "      <th>256868</th>\n",
       "      <td>APP2490</td>\n",
       "      <td>Apple iPhone 64GB X Silver</td>\n",
       "      <td>Apple iPhone 64GB X Silver</td>\n",
       "      <td>115.900.092</td>\n",
       "      <td>11.590.009</td>\n",
       "      <td>115.900.092</td>\n",
       "      <td>115.900</td>\n",
       "      <td>092</td>\n",
       "      <td>1508215.0</td>\n",
       "      <td>468193.0</td>\n",
       "      <td>1.0</td>\n",
       "      <td>1159.00</td>\n",
       "      <td>2017-12-20 18:23:20</td>\n",
       "      <td>1159.00</td>\n",
       "    </tr>\n",
       "    <tr>\n",
       "      <th>258017</th>\n",
       "      <td>APP2491</td>\n",
       "      <td>Apple iPhone X 256GB Space Gray</td>\n",
       "      <td>Apple iPhone X 256GB Space Gray</td>\n",
       "      <td>13.290.011</td>\n",
       "      <td>13.290.011</td>\n",
       "      <td>13.290.011</td>\n",
       "      <td>13.290</td>\n",
       "      <td>011</td>\n",
       "      <td>1639058.0</td>\n",
       "      <td>522738.0</td>\n",
       "      <td>1.0</td>\n",
       "      <td>1329.00</td>\n",
       "      <td>2018-03-07 13:31:50</td>\n",
       "      <td>1329.00</td>\n",
       "    </tr>\n",
       "    <tr>\n",
       "      <th>197004</th>\n",
       "      <td>REP0307</td>\n",
       "      <td>Load Connector Repair iPhone 6 Plus</td>\n",
       "      <td>Load Connector Repair iPhone 6 Plus</td>\n",
       "      <td>599.906</td>\n",
       "      <td>599.906</td>\n",
       "      <td>599.906</td>\n",
       "      <td>599</td>\n",
       "      <td>906</td>\n",
       "      <td>1244744.0</td>\n",
       "      <td>354298.0</td>\n",
       "      <td>1.0</td>\n",
       "      <td>59.99</td>\n",
       "      <td>2017-05-09 19:32:41</td>\n",
       "      <td>59.99</td>\n",
       "    </tr>\n",
       "    <tr>\n",
       "      <th>257112</th>\n",
       "      <td>APP2490</td>\n",
       "      <td>Apple iPhone 64GB X Silver</td>\n",
       "      <td>Apple iPhone 64GB X Silver</td>\n",
       "      <td>115.900.092</td>\n",
       "      <td>11.590.009</td>\n",
       "      <td>115.900.092</td>\n",
       "      <td>115.900</td>\n",
       "      <td>092</td>\n",
       "      <td>1531994.0</td>\n",
       "      <td>479414.0</td>\n",
       "      <td>1.0</td>\n",
       "      <td>1159.00</td>\n",
       "      <td>2018-01-02 11:43:40</td>\n",
       "      <td>1159.00</td>\n",
       "    </tr>\n",
       "    <tr>\n",
       "      <th>256676</th>\n",
       "      <td>APP2494</td>\n",
       "      <td>Apple TV 4K 64GB</td>\n",
       "      <td>Apple TV 4K 64GB</td>\n",
       "      <td>21.900.032</td>\n",
       "      <td>2.190.003</td>\n",
       "      <td>21.900.032</td>\n",
       "      <td>21.900</td>\n",
       "      <td>032</td>\n",
       "      <td>1603562.0</td>\n",
       "      <td>507246.0</td>\n",
       "      <td>1.0</td>\n",
       "      <td>219.00</td>\n",
       "      <td>2018-02-07 07:50:19</td>\n",
       "      <td>219.00</td>\n",
       "    </tr>\n",
       "  </tbody>\n",
       "</table>\n",
       "</div>"
      ],
      "text/plain": [
       "            sku                                 name  \\\n",
       "256868  APP2490           Apple iPhone 64GB X Silver   \n",
       "258017  APP2491      Apple iPhone X 256GB Space Gray   \n",
       "197004  REP0307  Load Connector Repair iPhone 6 Plus   \n",
       "257112  APP2490           Apple iPhone 64GB X Silver   \n",
       "256676  APP2494                     Apple TV 4K 64GB   \n",
       "\n",
       "                                       desc        price promo_price  \\\n",
       "256868           Apple iPhone 64GB X Silver  115.900.092  11.590.009   \n",
       "258017      Apple iPhone X 256GB Space Gray   13.290.011  13.290.011   \n",
       "197004  Load Connector Repair iPhone 6 Plus      599.906     599.906   \n",
       "257112           Apple iPhone 64GB X Silver  115.900.092  11.590.009   \n",
       "256676                     Apple TV 4K 64GB   21.900.032   2.190.003   \n",
       "\n",
       "          price_new price_num price_dec         id  id_order  \\\n",
       "256868  115.900.092   115.900       092  1508215.0  468193.0   \n",
       "258017   13.290.011    13.290       011  1639058.0  522738.0   \n",
       "197004      599.906       599       906  1244744.0  354298.0   \n",
       "257112  115.900.092   115.900       092  1531994.0  479414.0   \n",
       "256676   21.900.032    21.900       032  1603562.0  507246.0   \n",
       "\n",
       "        product_quantity  unit_price                date  total_price  \n",
       "256868               1.0     1159.00 2017-12-20 18:23:20      1159.00  \n",
       "258017               1.0     1329.00 2018-03-07 13:31:50      1329.00  \n",
       "197004               1.0       59.99 2017-05-09 19:32:41        59.99  \n",
       "257112               1.0     1159.00 2018-01-02 11:43:40      1159.00  \n",
       "256676               1.0      219.00 2018-02-07 07:50:19       219.00  "
      ]
     },
     "execution_count": 212,
     "metadata": {},
     "output_type": "execute_result"
    }
   ],
   "source": [
    "products_filtered.sample(5)"
   ]
  },
  {
   "cell_type": "markdown",
   "id": "d0900ded-c159-48f4-9376-1050e9821776",
   "metadata": {},
   "source": [
    "## Brands data is ok and does not need cleaning"
   ]
  },
  {
   "cell_type": "code",
   "execution_count": 104,
   "id": "65845ad0-62b3-4155-9638-b27bc7db6030",
   "metadata": {},
   "outputs": [
    {
     "data": {
      "text/html": [
       "<div>\n",
       "<style scoped>\n",
       "    .dataframe tbody tr th:only-of-type {\n",
       "        vertical-align: middle;\n",
       "    }\n",
       "\n",
       "    .dataframe tbody tr th {\n",
       "        vertical-align: top;\n",
       "    }\n",
       "\n",
       "    .dataframe thead th {\n",
       "        text-align: right;\n",
       "    }\n",
       "</style>\n",
       "<table border=\"1\" class=\"dataframe\">\n",
       "  <thead>\n",
       "    <tr style=\"text-align: right;\">\n",
       "      <th></th>\n",
       "      <th>short</th>\n",
       "      <th>long</th>\n",
       "    </tr>\n",
       "  </thead>\n",
       "  <tbody>\n",
       "    <tr>\n",
       "      <th>0</th>\n",
       "      <td>8MO</td>\n",
       "      <td>8Mobility</td>\n",
       "    </tr>\n",
       "    <tr>\n",
       "      <th>1</th>\n",
       "      <td>ACM</td>\n",
       "      <td>Acme</td>\n",
       "    </tr>\n",
       "    <tr>\n",
       "      <th>2</th>\n",
       "      <td>ADN</td>\n",
       "      <td>Adonit</td>\n",
       "    </tr>\n",
       "    <tr>\n",
       "      <th>3</th>\n",
       "      <td>AII</td>\n",
       "      <td>Aiino</td>\n",
       "    </tr>\n",
       "    <tr>\n",
       "      <th>4</th>\n",
       "      <td>AKI</td>\n",
       "      <td>Akitio</td>\n",
       "    </tr>\n",
       "  </tbody>\n",
       "</table>\n",
       "</div>"
      ],
      "text/plain": [
       "  short       long\n",
       "0   8MO  8Mobility\n",
       "1   ACM       Acme\n",
       "2   ADN     Adonit\n",
       "3   AII      Aiino\n",
       "4   AKI     Akitio"
      ]
     },
     "execution_count": 104,
     "metadata": {},
     "output_type": "execute_result"
    }
   ],
   "source": [
    "brands.head()"
   ]
  },
  {
   "cell_type": "code",
   "execution_count": null,
   "id": "df815c60-1446-476f-96af-328b5dd01a96",
   "metadata": {},
   "outputs": [],
   "source": []
  }
 ],
 "metadata": {
  "kernelspec": {
   "display_name": "Python 3",
   "language": "python",
   "name": "python3"
  },
  "language_info": {
   "codemirror_mode": {
    "name": "ipython",
    "version": 3
   },
   "file_extension": ".py",
   "mimetype": "text/x-python",
   "name": "python",
   "nbconvert_exporter": "python",
   "pygments_lexer": "ipython3",
   "version": "3.8.8"
  }
 },
 "nbformat": 4,
 "nbformat_minor": 5
}
